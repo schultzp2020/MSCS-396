{
 "cells": [
  {
   "cell_type": "code",
   "execution_count": 5,
   "metadata": {},
   "outputs": [],
   "source": [
    "def fast_exp(base, exponent, modulus):\n",
    "  result = 1\n",
    "  while exponent != 0:\n",
    "    if exponent % 2 == 1:\n",
    "      result = (result * base) % modulus\n",
    "    base = base**2 % modulus\n",
    "    exponent = exponent // 2\n",
    "  return result\n",
    "\n",
    "def extended_euclidean(m, n):\n",
    "  if n == 0:\n",
    "    return 1, 0, m\n",
    "  x, y, g = extended_euclidean(n, m % n)\n",
    "  return y, x - (m // n)*y, g\n",
    "\n",
    "def inv_mod(a, modulus):\n",
    "  s, _, g = extended_euclidean(a, modulus)\n",
    "  assert g == 1, ValueError('the modular inverse does not exist')\n",
    "  return s % modulus\n",
    "\n",
    "def crt(remainders, moduli):\n",
    "  assert len(remainders) == len(moduli), ValueError('the lists remainders and moduli are not the same length')\n",
    "  assert len(remainders) > 0, ValueError('the list lengths must be greater than zero')\n",
    "\n",
    "  first_modulus = moduli[0]\n",
    "  first_remainder = remainders[0]\n",
    "\n",
    "  if len(remainders) == 1:\n",
    "    return first_remainder % first_modulus, first_modulus\n",
    "  \n",
    "  consecutive_remainder, consecutive_modulus = crt(remainders[1:], moduli[1:])\n",
    "  u, v, g = extended_euclidean(consecutive_modulus, first_modulus)\n",
    "\n",
    "  assert g == 1, ValueError('the moduli are not relatively prime')\n",
    "\n",
    "  return (first_remainder*consecutive_modulus*u + consecutive_remainder*first_modulus*v) % (first_modulus*consecutive_modulus), first_modulus*consecutive_modulus\n",
    "\n",
    "def eulers_totient(p, q):\n",
    "  return (p-1)*(q-1)\n",
    "\n",
    "def polynomial_congruence(e, m_to_the_e, totient_n, n):\n",
    "  d = inv_mod(e, totient_n)\n",
    "\n",
    "  m = fast_exp(m_to_the_e, d, n)\n",
    "\n",
    "  return m, d\n",
    "\n",
    "def rsa_decrypt(e, m_to_the_e, p, q):\n",
    "  return polynomial_congruence(e, m_to_the_e, eulers_totient(p, q), p*q)"
   ]
  },
  {
   "cell_type": "code",
   "execution_count": 6,
   "metadata": {},
   "outputs": [
    {
     "data": {
      "text/plain": [
       "377707"
      ]
     },
     "execution_count": 6,
     "metadata": {},
     "output_type": "execute_result"
    }
   ],
   "source": [
    "fast_exp(314159, 65537, 6154877)"
   ]
  },
  {
   "cell_type": "code",
   "execution_count": 9,
   "metadata": {},
   "outputs": [
    {
     "data": {
      "text/plain": [
       "(314159, 1613465)"
      ]
     },
     "execution_count": 9,
     "metadata": {},
     "output_type": "execute_result"
    }
   ],
   "source": [
    "rsa_decrypt(65537, 377707, 2459, 2503)"
   ]
  },
  {
   "cell_type": "code",
   "execution_count": null,
   "metadata": {},
   "outputs": [],
   "source": []
  }
 ],
 "metadata": {
  "interpreter": {
   "hash": "8a7cea5f4d06b4da4fdb6f48310548cb243399064ce9faef36a0ecdde5173896"
  },
  "kernelspec": {
   "display_name": "Python 3.9.7 ('MSCS-basic')",
   "language": "python",
   "name": "python3"
  },
  "language_info": {
   "codemirror_mode": {
    "name": "ipython",
    "version": 3
   },
   "file_extension": ".py",
   "mimetype": "text/x-python",
   "name": "python",
   "nbconvert_exporter": "python",
   "pygments_lexer": "ipython3",
   "version": "3.9.7"
  },
  "orig_nbformat": 4
 },
 "nbformat": 4,
 "nbformat_minor": 2
}
