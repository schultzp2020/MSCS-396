{
 "cells": [
  {
   "cell_type": "code",
   "execution_count": 1,
   "metadata": {},
   "outputs": [],
   "source": [
    "import re"
   ]
  },
  {
   "cell_type": "code",
   "execution_count": 2,
   "metadata": {},
   "outputs": [],
   "source": [
    "def slide_count(ciphertext, key_upper_bound=15):\n",
    "  slides = []\n",
    "  for i in range(1, min(key_upper_bound, len(ciphertext))):\n",
    "    A = ciphertext[:-i]\n",
    "    B = ciphertext[i:]\n",
    "    match = 0\n",
    "    for A_j, B_j in zip(A, B):\n",
    "      if A_j == B_j:\n",
    "        match += 1\n",
    "    slides.append((i, match))\n",
    "  return slides\n",
    "\n",
    "def guess_key(ciphertext, key_length):\n",
    "  lf = [0.082, 0.015, 0.027, 0.047, 0.13, 0.022, 0.02, 0.062, 0.069, 0.0016, 0.0081, 0.04, 0.027, 0.067, 0.078, 0.019, 0.0011, 0.059, 0.062, 0.096, 0.027, 0.0097, 0.024, 0.0015, 0.02, 0.00078]\n",
    "  key = \"\"\n",
    "  for i in range(key_length):\n",
    "    text = ciphertext[i::key_length]\n",
    "    counts = [text.count(chr(ord('a') + j)) / len(text) for j in range(26)]\n",
    "    max_val = 0\n",
    "    slide = 0\n",
    "    for j in range(26):\n",
    "      rot = lf[-j:] + lf[:-j]\n",
    "      dot_prod = 0\n",
    "      for k in range(26):\n",
    "        dot_prod += rot[k] * counts[k]\n",
    "      if dot_prod > max_val:\n",
    "        max_val = dot_prod\n",
    "        slide = j\n",
    "    key += chr(slide + ord('a'))\n",
    "  return key\n",
    "\n",
    "def vigenere_encrypt(plaintext, key):\n",
    "  plaintext = re.sub('[^a-z]', '', plaintext.lower())\n",
    "  key = re.sub('[^a-z]', '', key.lower())\n",
    "  key_length = len(key)\n",
    "  ciphertext = \"\"\n",
    "  blocks = [plaintext[i:i + key_length] for i in range(0, len(plaintext), key_length)]\n",
    "  for block in blocks:\n",
    "    for b_char, k_char in zip(block, key):\n",
    "      ciphertext += chr((ord(b_char) + ord(k_char) - 2*ord('a')) % 26 + ord('a'))\n",
    "  return ciphertext\n",
    "\n",
    "def vigenere_decrypt(ciphertext, key):\n",
    "  ciphertext = re.sub('[^a-z]', '', ciphertext.lower())\n",
    "  key = re.sub('[^a-z]', '', key.lower())\n",
    "  key_length = len(key)\n",
    "  plaintext = \"\"\n",
    "  blocks = [ciphertext[i:i + key_length] for i in range(0, len(ciphertext), key_length)]\n",
    "  for block in blocks:\n",
    "    for b_char, k_char in zip(block, key):\n",
    "      plaintext += chr((ord(b_char) - ord(k_char)) % 26 + ord('a'))\n",
    "  return plaintext"
   ]
  },
  {
   "cell_type": "code",
   "execution_count": 3,
   "metadata": {},
   "outputs": [],
   "source": [
    "message = 'weholdthesetruthstobeselfevidentthatallmenarecreatedequalthattheyareendowedbytheircreatorwithcertainunalienablerightsthatamongthesearelifelibertyandthepursuitofhappinessthattosecuretheserightsgovernmentsareinstitutedamongmenderivingtheirjustpowersfromtheconsentofthegovernedthatwheneveranyformofgovernmentbecomesdestructiveoftheseendsitistherightofthepeopletoalterortoabolishitandtoinstitutenewgovernmentlayingitsfoundationonsuchprinciplesandorganizingitspowersinsuchformastothemshallseemmostlikelytoeffecttheirsafetyandhappinessprudenceindeedwilldictatethatgovernmentslongestablishedshouldnotbechangedforlightandtransientcausesandaccordinglyallexperiencehathshewnthatmankindaremoredisposedtosufferwhileevilsaresufferablethantorightthemselvesbyabolishingtheformstowhichtheyareaccustomedbutwhenalongtrainofabusesandusurpationspursuinginvariablythesameobjectevincesadesigntoreducethemunderabsolutedespotismitistheirrightitistheirdutytothrowoffsuchgovernmentandtoprovidenewguardsfortheirfuturesecuritysuchhasbeenthepatientsufferanceofthesecoloniesandsuchisnowthenecessitywhichconstrainsthemtoaltertheirformersystemsofgovernmentthehistoryofthepresentkingofgreatbritainisahistoryofrepeatedinjuriesandusurpationsallhavingindirectobjecttheestablishmentofanabsolutetyrannyoverthesestatestoprovethisletfactsbesubmittedtoacandidworld'"
   ]
  },
  {
   "cell_type": "code",
   "execution_count": 4,
   "metadata": {},
   "outputs": [],
   "source": [
    "key1 = 'the'\n",
    "key2 = 'from'"
   ]
  },
  {
   "cell_type": "code",
   "execution_count": 5,
   "metadata": {},
   "outputs": [],
   "source": [
    "ciphertext1 = vigenere_encrypt(message, key1)\n",
    "ciphertext2 = vigenere_encrypt(ciphertext1, key2)"
   ]
  },
  {
   "cell_type": "code",
   "execution_count": 7,
   "metadata": {},
   "outputs": [
    {
     "data": {
      "text/plain": [
       "[(1, 38),\n",
       " (2, 47),\n",
       " (3, 39),\n",
       " (4, 45),\n",
       " (5, 48),\n",
       " (6, 41),\n",
       " (7, 65),\n",
       " (8, 46),\n",
       " (9, 43),\n",
       " (10, 37),\n",
       " (11, 45),\n",
       " (12, 105),\n",
       " (13, 47),\n",
       " (14, 42)]"
      ]
     },
     "execution_count": 7,
     "metadata": {},
     "output_type": "execute_result"
    }
   ],
   "source": [
    "slide_count(ciphertext2)"
   ]
  },
  {
   "cell_type": "code",
   "execution_count": 8,
   "metadata": {},
   "outputs": [],
   "source": [
    "key_guess = guess_key(ciphertext2, 12)"
   ]
  },
  {
   "cell_type": "code",
   "execution_count": 10,
   "metadata": {},
   "outputs": [
    {
     "data": {
      "text/plain": [
       "'weholdthesetruthstobeselfevidentthatallmenarecreatedequalthattheyareendowedbytheircreatorwithcertainunalienablerightsthatamongthesearelifelibertyandthepursuitofhappinessthattosecuretheserightsgovernmentsareinstitutedamongmenderivingtheirjustpowersfromtheconsentofthegovernedthatwheneveranyformofgovernmentbecomesdestructiveoftheseendsitistherightofthepeopletoalterortoabolishitandtoinstitutenewgovernmentlayingitsfoundationonsuchprinciplesandorganizingitspowersinsuchformastothemshallseemmostlikelytoeffecttheirsafetyandhappinessprudenceindeedwilldictatethatgovernmentslongestablishedshouldnotbechangedforlightandtransientcausesandaccordinglyallexperiencehathshewnthatmankindaremoredisposedtosufferwhileevilsaresufferablethantorightthemselvesbyabolishingtheformstowhichtheyareaccustomedbutwhenalongtrainofabusesandusurpationspursuinginvariablythesameobjectevincesadesigntoreducethemunderabsolutedespotismitistheirrightitistheirdutytothrowoffsuchgovernmentandtoprovidenewguardsfortheirfuturesecuritysuchhasbeenthepatientsufferanceofthesecoloniesandsuchisnowthenecessitywhichconstrainsthemtoaltertheirformersystemsofgovernmentthehistoryofthepresentkingofgreatbritainisahistoryofrepeatedinjuriesandusurpationsallhavingindirectobjecttheestablishmentofanabsolutetyrannyoverthesestatestoprovethisletfactsbesubmittedtoacandidworld'"
      ]
     },
     "execution_count": 10,
     "metadata": {},
     "output_type": "execute_result"
    }
   ],
   "source": [
    "vigenere_decrypt(ciphertext2, key_guess)"
   ]
  },
  {
   "cell_type": "code",
   "execution_count": 11,
   "metadata": {},
   "outputs": [
    {
     "data": {
      "text/plain": [
       "'yysfmvhtjkvq'"
      ]
     },
     "execution_count": 11,
     "metadata": {},
     "output_type": "execute_result"
    }
   ],
   "source": [
    "key_guess"
   ]
  },
  {
   "cell_type": "code",
   "execution_count": 17,
   "metadata": {},
   "outputs": [
    {
     "data": {
      "text/plain": [
       "'yysfmvhtjkvq'"
      ]
     },
     "execution_count": 17,
     "metadata": {},
     "output_type": "execute_result"
    }
   ],
   "source": [
    "vigenere_encrypt('the'*4, 'from')"
   ]
  },
  {
   "cell_type": "code",
   "execution_count": 18,
   "metadata": {},
   "outputs": [
    {
     "data": {
      "text/plain": [
       "'yysfmvhtjkvq'"
      ]
     },
     "execution_count": 18,
     "metadata": {},
     "output_type": "execute_result"
    }
   ],
   "source": [
    "vigenere_encrypt('from'*3, 'the')"
   ]
  },
  {
   "cell_type": "code",
   "execution_count": null,
   "metadata": {},
   "outputs": [],
   "source": []
  }
 ],
 "metadata": {
  "interpreter": {
   "hash": "8a7cea5f4d06b4da4fdb6f48310548cb243399064ce9faef36a0ecdde5173896"
  },
  "kernelspec": {
   "display_name": "Python 3.9.7 ('MSCS-basic')",
   "language": "python",
   "name": "python3"
  },
  "language_info": {
   "codemirror_mode": {
    "name": "ipython",
    "version": 3
   },
   "file_extension": ".py",
   "mimetype": "text/x-python",
   "name": "python",
   "nbconvert_exporter": "python",
   "pygments_lexer": "ipython3",
   "version": "3.9.7"
  },
  "orig_nbformat": 4
 },
 "nbformat": 4,
 "nbformat_minor": 2
}
