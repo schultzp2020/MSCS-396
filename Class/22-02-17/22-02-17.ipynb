{
 "cells": [
  {
   "cell_type": "code",
   "execution_count": 1,
   "metadata": {},
   "outputs": [],
   "source": [
    "import numpy as np\n",
    "import math"
   ]
  },
  {
   "cell_type": "code",
   "execution_count": 2,
   "metadata": {},
   "outputs": [],
   "source": [
    "def fast_exp(base, exponent, modulus):\n",
    "  result = 1\n",
    "  while exponent != 0:\n",
    "    if exponent % 2 == 1:\n",
    "      result = (result * base) % modulus\n",
    "    base = base**2 % modulus\n",
    "    exponent = exponent // 2\n",
    "  return result\n",
    "\n",
    "def extended_euclidean(m, n):\n",
    "  if n == 0:\n",
    "    return 1, 0, m\n",
    "  x, y, g = extended_euclidean(n, m % n)\n",
    "  return y, x - (m // n)*y, g\n",
    "\n",
    "def inv_mod(a, modulus):\n",
    "  s, _, g = extended_euclidean(a, modulus)\n",
    "  assert g == 1, ValueError('the modular inverse does not exist')\n",
    "  return s % modulus\n",
    "\n",
    "def crt(remainders, moduli):\n",
    "  assert len(remainders) == len(moduli), ValueError('the lists remainders and moduli are not the same length')\n",
    "  assert len(remainders) > 0, ValueError('the list lengths must be greater than one')\n",
    "\n",
    "  first_modulus = moduli[0]\n",
    "  first_remainder = remainders[0]\n",
    "\n",
    "  if len(remainders) == 1:\n",
    "    return first_remainder % first_modulus, first_modulus\n",
    "  \n",
    "  consecutive_remainder, consecutive_modulus = crt(remainders[1:], moduli[1:])\n",
    "  u, v, g = extended_euclidean(consecutive_modulus, first_modulus)\n",
    "\n",
    "  assert g == 1, ValueError('the moduli are not relatively prime')\n",
    "\n",
    "  return (first_remainder*consecutive_modulus*u + consecutive_remainder*first_modulus*v) % (first_modulus*consecutive_modulus), first_modulus*consecutive_modulus\n",
    "\n",
    "def polynomial_root(exponent, a, modulus):\n",
    "  u = inv_mod(exponent, modulus - 1)\n",
    "\n",
    "  result = fast_exp(a, u, modulus)\n",
    "\n",
    "  return result\n",
    "\n",
    "def cf_float(x, n):\n",
    "  cf = []\n",
    "  for _ in range(n):\n",
    "    cf.append(int(x))\n",
    "    x = 1 / (x % 1)\n",
    "  return cf\n",
    "\n",
    "def continued_frac(num, den):\n",
    "  cf = []\n",
    "  while den != 0:\n",
    "    cf.append(num//den)\n",
    "    num, den = den, num % den\n",
    "  return cf\n",
    "\n",
    "def get_convergents(cf):\n",
    "  convergents = [[0, 1], [1, 0]]\n",
    "  for a in cf:\n",
    "    hk2, hk1 = convergents[-2:]\n",
    "    convergents.append([a*hk1[0] + hk2[0], a*hk1[1] + hk2[1]])\n",
    "  return convergents[2:]"
   ]
  },
  {
   "cell_type": "code",
   "execution_count": 7,
   "metadata": {},
   "outputs": [],
   "source": [
    "def crack_rsa(e, n):\n",
    "  convergents = get_convergents(continued_frac(e, n))\n",
    "  for convergent in convergents:\n",
    "    k, d = convergent\n",
    "    if k != 0 and (phi := (d * e - 1) // k) != 0:\n",
    "      p_q = n - phi + 1\n",
    "      disc = p_q**2 - 4*n\n",
    "      if disc > 0:\n",
    "        p, q = (p_q + math.isqrt(disc)) // 2, (p_q - math.isqrt(disc)) // 2\n",
    "        if p*q == n:\n",
    "          return d, p, q\n",
    "  return -1, -1, -1"
   ]
  },
  {
   "cell_type": "code",
   "execution_count": 6,
   "metadata": {},
   "outputs": [
    {
     "data": {
      "text/plain": [
       "(9576890767, 671998030559713968361666935769, 282174488599599500573849980909)"
      ]
     },
     "execution_count": 6,
     "metadata": {},
     "output_type": "execute_result"
    }
   ],
   "source": [
    "crack_rsa(107183767561739170366370713658887395868403028905518093258543, 189620700613125325959116839007395234454467716598457179234021)"
   ]
  },
  {
   "cell_type": "code",
   "execution_count": null,
   "metadata": {},
   "outputs": [],
   "source": []
  }
 ],
 "metadata": {
  "interpreter": {
   "hash": "8a7cea5f4d06b4da4fdb6f48310548cb243399064ce9faef36a0ecdde5173896"
  },
  "kernelspec": {
   "display_name": "Python 3.9.7 ('MSCS-basic')",
   "language": "python",
   "name": "python3"
  },
  "language_info": {
   "codemirror_mode": {
    "name": "ipython",
    "version": 3
   },
   "file_extension": ".py",
   "mimetype": "text/x-python",
   "name": "python",
   "nbconvert_exporter": "python",
   "pygments_lexer": "ipython3",
   "version": "3.9.7"
  },
  "orig_nbformat": 4
 },
 "nbformat": 4,
 "nbformat_minor": 2
}
