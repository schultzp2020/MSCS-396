{
 "cells": [
  {
   "cell_type": "code",
   "execution_count": 1,
   "metadata": {},
   "outputs": [],
   "source": [
    "import math"
   ]
  },
  {
   "cell_type": "code",
   "execution_count": 2,
   "metadata": {},
   "outputs": [],
   "source": [
    "def fast_exp(base, exponent, modulus):\n",
    "  result = 1\n",
    "  while exponent != 0:\n",
    "    if exponent % 2 == 1:\n",
    "      result = (result * base) % modulus\n",
    "    base = base**2 % modulus\n",
    "    exponent = exponent // 2\n",
    "  return result\n",
    "\n",
    "def extended_euclidean(m, n):\n",
    "  if n == 0:\n",
    "    return 1, 0, m\n",
    "  x, y, g = extended_euclidean(n, m % n)\n",
    "  return y, x - (m // n)*y, g\n",
    "\n",
    "def inv_mod(a, modulus):\n",
    "  s, _, g = extended_euclidean(a, modulus)\n",
    "  assert g == 1, ValueError('the modular inverse does not exist')\n",
    "  return s % modulus\n",
    "\n",
    "def crt(remainders, moduli):\n",
    "  assert len(remainders) == len(moduli), ValueError('the lists remainders and moduli are not the same length')\n",
    "  assert len(remainders) > 0, ValueError('the list lengths must be greater than one')\n",
    "\n",
    "  first_modulus = moduli[0]\n",
    "  first_remainder = remainders[0]\n",
    "\n",
    "  if len(remainders) == 1:\n",
    "    return first_remainder % first_modulus, first_modulus\n",
    "  \n",
    "  consecutive_remainder, consecutive_modulus = crt(remainders[1:], moduli[1:])\n",
    "  u, v, g = extended_euclidean(consecutive_modulus, first_modulus)\n",
    "\n",
    "  assert g == 1, ValueError('the moduli are not relatively prime')\n",
    "\n",
    "  return (first_remainder*consecutive_modulus*u + consecutive_remainder*first_modulus*v) % (first_modulus*consecutive_modulus), first_modulus*consecutive_modulus\n",
    "\n",
    "def polynomial_root(exponent, a, modulus):\n",
    "  u = inv_mod(exponent, modulus - 1)\n",
    "\n",
    "  result = fast_exp(a, u, modulus)\n",
    "\n",
    "  return result\n",
    "\n",
    "def cf_float(x, n):\n",
    "  cf = []\n",
    "  for _ in range(n):\n",
    "    cf.append(int(x))\n",
    "    x = 1 / (x % 1)\n",
    "  return cf\n",
    "\n",
    "def continued_frac(num, den):\n",
    "  cf = []\n",
    "  while den != 0:\n",
    "    cf.append(num//den)\n",
    "    num, den = den, num % den\n",
    "  return cf\n",
    "\n",
    "def get_convergents(cf):\n",
    "  convergents = [[0, 1], [1, 0]]\n",
    "  for a in cf:\n",
    "    hk2, hk1 = convergents[-2:]\n",
    "    convergents.append([a*hk1[0] + hk2[0], a*hk1[1] + hk2[1]])\n",
    "  return convergents[2:]\n",
    "\n",
    "def crack_rsa(e, n):\n",
    "  convergents = get_convergents(continued_frac(e, n))\n",
    "  for convergent in convergents:\n",
    "    k, d = convergent\n",
    "    if k != 0 and (phi := (d * e - 1) // k) != 0:\n",
    "      p_q = n - phi + 1\n",
    "      disc = p_q**2 - 4*n\n",
    "      if disc > 0:\n",
    "        p, q = (p_q + math.isqrt(disc)) // 2, (p_q - math.isqrt(disc)) // 2\n",
    "        if p*q == n:\n",
    "          return d, p, q\n",
    "  return -1, -1, -1\n",
    "\n",
    "def pollard_rho(n):\n",
    "  f = lambda x_: x_**2 + 1\n",
    "  x = 2\n",
    "  y = 2\n",
    "  g = 1\n",
    "  count = 0\n",
    "  while g == 1:\n",
    "    x = f(x) % n\n",
    "    y = f(f(y)) % n\n",
    "    _, _, g = extended_euclidean(abs(x-y), n)\n",
    "    count += 1\n",
    "  return g, count"
   ]
  },
  {
   "cell_type": "code",
   "execution_count": 3,
   "metadata": {},
   "outputs": [],
   "source": [
    "def print_cycles(n):\n",
    "  h = lambda x_: x_**2 + 1\n",
    "  x = 2\n",
    "  for _ in range(n):\n",
    "    x = h(x) % n\n",
    "    print(x)"
   ]
  },
  {
   "cell_type": "code",
   "execution_count": 5,
   "metadata": {},
   "outputs": [
    {
     "data": {
      "text/plain": [
       "(198765432101, 228360)"
      ]
     },
     "execution_count": 5,
     "metadata": {},
     "output_type": "execute_result"
    }
   ],
   "source": [
    "pollard_rho(720777718430892426412699013841273041436894957841223)"
   ]
  },
  {
   "cell_type": "code",
   "execution_count": 6,
   "metadata": {},
   "outputs": [
    {
     "data": {
      "text/plain": [
       "(18826507658281, 1544523)"
      ]
     },
     "execution_count": 6,
     "metadata": {},
     "output_type": "execute_result"
    }
   ],
   "source": [
    "pollard_rho(720777718430892426412699013841273041436894957841223//198765432101)"
   ]
  },
  {
   "cell_type": "code",
   "execution_count": 7,
   "metadata": {},
   "outputs": [
    {
     "data": {
      "text/plain": [
       "(1881676371789154860897069,\n",
       " 6541509009210323465565388766012318656540490492288685237349)"
      ]
     },
     "execution_count": 7,
     "metadata": {},
     "output_type": "execute_result"
    }
   ],
   "source": [
    "crt([8187081806215505471, 5285356194805239972, 6399213745575232470], [8876044532898802067, 18801105946394093459, 39199007823998693533])"
   ]
  },
  {
   "cell_type": "code",
   "execution_count": 8,
   "metadata": {},
   "outputs": [
    {
     "data": {
      "text/plain": [
       "123456788.99999987"
      ]
     },
     "execution_count": 8,
     "metadata": {},
     "output_type": "execute_result"
    }
   ],
   "source": [
    "1881676371789154860897069**(1/3)"
   ]
  },
  {
   "cell_type": "code",
   "execution_count": 9,
   "metadata": {},
   "outputs": [
    {
     "data": {
      "text/plain": [
       "1881676371789154860897069"
      ]
     },
     "execution_count": 9,
     "metadata": {},
     "output_type": "execute_result"
    }
   ],
   "source": [
    "123456789**3"
   ]
  },
  {
   "cell_type": "code",
   "execution_count": 10,
   "metadata": {},
   "outputs": [
    {
     "data": {
      "text/plain": [
       "(21846, -21847, 1)"
      ]
     },
     "execution_count": 10,
     "metadata": {},
     "output_type": "execute_result"
    }
   ],
   "source": [
    "extended_euclidean(65540, 65537)"
   ]
  },
  {
   "cell_type": "code",
   "execution_count": 14,
   "metadata": {},
   "outputs": [
    {
     "data": {
      "text/plain": [
       "1686884397782746217165356841165126481871"
      ]
     },
     "execution_count": 14,
     "metadata": {},
     "output_type": "execute_result"
    }
   ],
   "source": [
    "inv_mod(1622980102927711263837825272257800131879, 2169657800746705868906997566280821497741)"
   ]
  },
  {
   "cell_type": "code",
   "execution_count": 15,
   "metadata": {},
   "outputs": [
    {
     "data": {
      "text/plain": [
       "218938390921748345651315330467865881255"
      ]
     },
     "execution_count": 15,
     "metadata": {},
     "output_type": "execute_result"
    }
   ],
   "source": [
    "fast_exp(1147836106621857253994178866934024626264, 21846, 2169657800746705868906997566280821497741)"
   ]
  },
  {
   "cell_type": "code",
   "execution_count": 17,
   "metadata": {},
   "outputs": [
    {
     "data": {
      "text/plain": [
       "1465484096981562922823936098994504215990"
      ]
     },
     "execution_count": 17,
     "metadata": {},
     "output_type": "execute_result"
    }
   ],
   "source": [
    "fast_exp(1686884397782746217165356841165126481871, 21847, 2169657800746705868906997566280821497741)"
   ]
  },
  {
   "cell_type": "code",
   "execution_count": 18,
   "metadata": {},
   "outputs": [
    {
     "data": {
      "text/plain": [
       "2718281828"
      ]
     },
     "execution_count": 18,
     "metadata": {},
     "output_type": "execute_result"
    }
   ],
   "source": [
    "(218938390921748345651315330467865881255 * 1465484096981562922823936098994504215990) % 2169657800746705868906997566280821497741"
   ]
  },
  {
   "cell_type": "code",
   "execution_count": null,
   "metadata": {},
   "outputs": [],
   "source": []
  }
 ],
 "metadata": {
  "interpreter": {
   "hash": "8a7cea5f4d06b4da4fdb6f48310548cb243399064ce9faef36a0ecdde5173896"
  },
  "kernelspec": {
   "display_name": "Python 3.9.7 ('MSCS-basic')",
   "language": "python",
   "name": "python3"
  },
  "language_info": {
   "codemirror_mode": {
    "name": "ipython",
    "version": 3
   },
   "file_extension": ".py",
   "mimetype": "text/x-python",
   "name": "python",
   "nbconvert_exporter": "python",
   "pygments_lexer": "ipython3",
   "version": "3.9.7"
  },
  "orig_nbformat": 4
 },
 "nbformat": 4,
 "nbformat_minor": 2
}
