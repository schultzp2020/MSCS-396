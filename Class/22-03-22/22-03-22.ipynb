{
 "cells": [
  {
   "cell_type": "code",
   "execution_count": 1,
   "metadata": {},
   "outputs": [],
   "source": [
    "import re"
   ]
  },
  {
   "cell_type": "code",
   "execution_count": 2,
   "metadata": {},
   "outputs": [],
   "source": [
    "def vigenere_encrypt(plaintext, key):\n",
    "  plaintext = re.sub('[^a-z]', '', plaintext.lower())\n",
    "  key = re.sub('[^a-z]', '', key.lower())\n",
    "  key_length = len(key)\n",
    "  ciphertext = \"\"\n",
    "  blocks = [plaintext[i:i + key_length] for i in range(0, len(plaintext), key_length)]\n",
    "  for block in blocks:\n",
    "    for b_char, k_char in zip(block, key):\n",
    "      ciphertext += chr((ord(b_char) + ord(k_char) - 2*ord('a')) % 26 + ord('a'))\n",
    "  return ciphertext"
   ]
  },
  {
   "cell_type": "code",
   "execution_count": 10,
   "metadata": {},
   "outputs": [],
   "source": [
    "def vigenere_decrypt(ciphertext, key):\n",
    "  ciphertext = re.sub('[^a-z]', '', ciphertext.lower())\n",
    "  key = re.sub('[^a-z]', '', key.lower())\n",
    "  key_length = len(key)\n",
    "  plaintext = \"\"\n",
    "  blocks = [ciphertext[i:i + key_length] for i in range(0, len(ciphertext), key_length)]\n",
    "  for block in blocks:\n",
    "    for b_char, k_char in zip(block, key):\n",
    "      plaintext += chr((ord(b_char) - ord(k_char)) % 26 + ord('a'))\n",
    "  return plaintext"
   ]
  },
  {
   "cell_type": "code",
   "execution_count": 12,
   "metadata": {},
   "outputs": [
    {
     "name": "stdout",
     "output_type": "stream",
     "text": [
      "plaintext='This is a test message', ciphertext='llkjmlsxgjxfwwurkx', decoded_plaintext='thisisatestmessage'\n"
     ]
    }
   ],
   "source": [
    "plaintext = 'This is a test message'\n",
    "key = 'secret'\n",
    "ciphertext = vigenere_encrypt(plaintext, key)\n",
    "decoded_plaintext = vigenere_decrypt(ciphertext, key)\n",
    "print(f'{plaintext=}, {ciphertext=}, {decoded_plaintext=}')"
   ]
  },
  {
   "cell_type": "code",
   "execution_count": null,
   "metadata": {},
   "outputs": [],
   "source": []
  }
 ],
 "metadata": {
  "interpreter": {
   "hash": "8a7cea5f4d06b4da4fdb6f48310548cb243399064ce9faef36a0ecdde5173896"
  },
  "kernelspec": {
   "display_name": "Python 3.9.7 ('MSCS-basic')",
   "language": "python",
   "name": "python3"
  },
  "language_info": {
   "codemirror_mode": {
    "name": "ipython",
    "version": 3
   },
   "file_extension": ".py",
   "mimetype": "text/x-python",
   "name": "python",
   "nbconvert_exporter": "python",
   "pygments_lexer": "ipython3",
   "version": "3.9.7"
  },
  "orig_nbformat": 4
 },
 "nbformat": 4,
 "nbformat_minor": 2
}
