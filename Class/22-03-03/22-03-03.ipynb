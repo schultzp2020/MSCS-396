{
 "cells": [
  {
   "cell_type": "code",
   "execution_count": 1,
   "metadata": {},
   "outputs": [],
   "source": [
    "import math"
   ]
  },
  {
   "cell_type": "code",
   "execution_count": 2,
   "metadata": {},
   "outputs": [],
   "source": [
    "def fast_exp(base, exponent, modulus):\n",
    "  result = 1\n",
    "  while exponent != 0:\n",
    "    if exponent % 2 == 1:\n",
    "      result = (result * base) % modulus\n",
    "    base = base**2 % modulus\n",
    "    exponent = exponent // 2\n",
    "  return result\n",
    "\n",
    "def extended_euclidean(m, n):\n",
    "  if n == 0:\n",
    "    return 1, 0, m\n",
    "  x, y, g = extended_euclidean(n, m % n)\n",
    "  return y, x - (m // n)*y, g\n",
    "\n",
    "def inv_mod(a, modulus):\n",
    "  s, _, g = extended_euclidean(a, modulus)\n",
    "  assert g == 1, ValueError('the modular inverse does not exist')\n",
    "  return s % modulus\n",
    "\n",
    "def crt(remainders, moduli):\n",
    "  assert len(remainders) == len(moduli), ValueError('the lists remainders and moduli are not the same length')\n",
    "  assert len(remainders) > 0, ValueError('the list lengths must be greater than one')\n",
    "\n",
    "  first_modulus = moduli[0]\n",
    "  first_remainder = remainders[0]\n",
    "\n",
    "  if len(remainders) == 1:\n",
    "    return first_remainder % first_modulus, first_modulus\n",
    "  \n",
    "  consecutive_remainder, consecutive_modulus = crt(remainders[1:], moduli[1:])\n",
    "  u, v, g = extended_euclidean(consecutive_modulus, first_modulus)\n",
    "\n",
    "  assert g == 1, ValueError('the moduli are not relatively prime')\n",
    "\n",
    "  return (first_remainder*consecutive_modulus*u + consecutive_remainder*first_modulus*v) % (first_modulus*consecutive_modulus), first_modulus*consecutive_modulus\n",
    "\n",
    "def polynomial_root(exponent, a, modulus):\n",
    "  u = inv_mod(exponent, modulus - 1)\n",
    "\n",
    "  result = fast_exp(a, u, modulus)\n",
    "\n",
    "  return result\n",
    "\n",
    "def cf_float(x, n):\n",
    "  cf = []\n",
    "  for _ in range(n):\n",
    "    cf.append(int(x))\n",
    "    x = 1 / (x % 1)\n",
    "  return cf\n",
    "\n",
    "def continued_frac(num, den):\n",
    "  cf = []\n",
    "  while den != 0:\n",
    "    cf.append(num//den)\n",
    "    num, den = den, num % den\n",
    "  return cf\n",
    "\n",
    "def get_convergents(cf):\n",
    "  convergents = [[0, 1], [1, 0]]\n",
    "  for a in cf:\n",
    "    hk2, hk1 = convergents[-2:]\n",
    "    convergents.append([a*hk1[0] + hk2[0], a*hk1[1] + hk2[1]])\n",
    "  return convergents[2:]\n",
    "\n",
    "def crack_rsa(e, n):\n",
    "  convergents = get_convergents(continued_frac(e, n))\n",
    "  for convergent in convergents:\n",
    "    k, d = convergent\n",
    "    if k != 0 and (phi := (d * e - 1) // k) != 0:\n",
    "      p_q = n - phi + 1\n",
    "      disc = p_q**2 - 4*n\n",
    "      if disc > 0:\n",
    "        p, q = (p_q + math.isqrt(disc)) // 2, (p_q - math.isqrt(disc)) // 2\n",
    "        if p*q == n:\n",
    "          return d, p, q\n",
    "  return -1, -1, -1\n",
    "\n",
    "def pollard_rho(n):\n",
    "  f = lambda x_: x_**2 + 1\n",
    "  x = 2\n",
    "  y = 2\n",
    "  g = 1\n",
    "  count = 0\n",
    "  while g == 1:\n",
    "    x = f(x) % n\n",
    "    y = f(f(y)) % n\n",
    "    _, _, g = extended_euclidean(abs(x-y), n)\n",
    "    count += 1\n",
    "  return g, count"
   ]
  },
  {
   "cell_type": "code",
   "execution_count": 3,
   "metadata": {},
   "outputs": [],
   "source": [
    "class EC_Point:\n",
    "  def __init__(self, x, y, a, b, modulus, zero=False):\n",
    "    self.zero = zero\n",
    "    self.x = x\n",
    "    self.y = y\n",
    "\n",
    "    if (y**2 - (x**3 + a*x + b)) % modulus != 0:\n",
    "      self.zero = True\n",
    "      print(\"Point not on the curve. Initialized to 0.\")\n",
    "\n",
    "    def __add__(self, Q):\n",
    "      assert self.a == Q.a, ValueError('a values do not match')\n",
    "      assert self.b == Q.b, ValueError('b values do not match')\n",
    "      assert self.modulus == Q.modulus, ValueError('moduli do not match')\n",
    "\n",
    "      s = 0\n",
    "      \n",
    "      if (self.x - Q.x) % modulus != 0:\n",
    "        s = (Q.y - self.y)*inv_mod(Q.x - self.x, modulus) % modulus\n",
    "      \n",
    "      elif (self.y - Q.y) % modulus != 0:\n",
    "        self.zero = True\n",
    "        return self\n",
    "\n",
    "      else:\n",
    "        if self.y == 0:\n",
    "          self.zero = True\n",
    "          return self\n",
    "\n",
    "        else:\n",
    "          s = (3*self.x**2 + a)*inv_mod(2*self.y, modulus) % modulus\n",
    "\n",
    "      x_r = s**2 - self.x - Q.x\n",
    "      y_r = self.y + s*(x_r - self.x)\n",
    "      return EC_Point(x_r, y_r, self.a, self.b, self.modulus)"
   ]
  },
  {
   "cell_type": "code",
   "execution_count": 4,
   "metadata": {},
   "outputs": [],
   "source": [
    "A = EC_Point(38, 38, 0, 1, 101)"
   ]
  },
  {
   "cell_type": "code",
   "execution_count": 5,
   "metadata": {},
   "outputs": [
    {
     "ename": "TypeError",
     "evalue": "unsupported operand type(s) for +: 'EC_Point' and 'EC_Point'",
     "output_type": "error",
     "traceback": [
      "\u001b[0;31m---------------------------------------------------------------------------\u001b[0m",
      "\u001b[0;31mTypeError\u001b[0m                                 Traceback (most recent call last)",
      "\u001b[0;32m/tmp/ipykernel_13627/1542881851.py\u001b[0m in \u001b[0;36m<module>\u001b[0;34m\u001b[0m\n\u001b[0;32m----> 1\u001b[0;31m \u001b[0mA\u001b[0m\u001b[0;34m+\u001b[0m\u001b[0mA\u001b[0m\u001b[0;34m\u001b[0m\u001b[0;34m\u001b[0m\u001b[0m\n\u001b[0m",
      "\u001b[0;31mTypeError\u001b[0m: unsupported operand type(s) for +: 'EC_Point' and 'EC_Point'"
     ]
    }
   ],
   "source": [
    "A+A"
   ]
  },
  {
   "cell_type": "code",
   "execution_count": null,
   "metadata": {},
   "outputs": [
    {
     "name": "stdout",
     "output_type": "stream",
     "text": [
      "Point not on the curve. Initialized to 0.\n"
     ]
    }
   ],
   "source": [
    "A = EC_Point(38, 39, 0, 1, 101)"
   ]
  },
  {
   "cell_type": "code",
   "execution_count": null,
   "metadata": {},
   "outputs": [],
   "source": []
  }
 ],
 "metadata": {
  "interpreter": {
   "hash": "8a7cea5f4d06b4da4fdb6f48310548cb243399064ce9faef36a0ecdde5173896"
  },
  "kernelspec": {
   "display_name": "Python 3.9.7 ('MSCS-basic')",
   "language": "python",
   "name": "python3"
  },
  "language_info": {
   "codemirror_mode": {
    "name": "ipython",
    "version": 3
   },
   "file_extension": ".py",
   "mimetype": "text/x-python",
   "name": "python",
   "nbconvert_exporter": "python",
   "pygments_lexer": "ipython3",
   "version": "3.9.7"
  },
  "orig_nbformat": 4
 },
 "nbformat": 4,
 "nbformat_minor": 2
}
