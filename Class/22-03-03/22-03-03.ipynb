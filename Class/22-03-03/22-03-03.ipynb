{
 "cells": [
  {
   "cell_type": "code",
   "execution_count": 1,
   "metadata": {},
   "outputs": [],
   "source": [
    "import math"
   ]
  },
  {
   "cell_type": "code",
   "execution_count": 16,
   "metadata": {},
   "outputs": [],
   "source": [
    "def fast_exp(base, exponent, modulus):\n",
    "  result = 1\n",
    "  while exponent != 0:\n",
    "    if exponent % 2 == 1:\n",
    "      result = (result * base) % modulus\n",
    "    base = base**2 % modulus\n",
    "    exponent = exponent // 2\n",
    "  return result\n",
    "\n",
    "def extended_euclidean(m, n):\n",
    "  if n == 0:\n",
    "    return 1, 0, m\n",
    "  x, y, g = extended_euclidean(n, m % n)\n",
    "  return y, x - (m // n)*y, g\n",
    "\n",
    "def inv_mod(a, modulus):\n",
    "  s, _, g = extended_euclidean(a, modulus)\n",
    "  assert g == 1, ValueError('the modular inverse does not exist')\n",
    "  return s % modulus\n",
    "\n",
    "def crt(remainders, moduli):\n",
    "  assert len(remainders) == len(moduli), ValueError('the lists remainders and moduli are not the same length')\n",
    "  assert len(remainders) > 0, ValueError('the list lengths must be greater than one')\n",
    "\n",
    "  first_modulus = moduli[0]\n",
    "  first_remainder = remainders[0]\n",
    "\n",
    "  if len(remainders) == 1:\n",
    "    return first_remainder % first_modulus, first_modulus\n",
    "  \n",
    "  consecutive_remainder, consecutive_modulus = crt(remainders[1:], moduli[1:])\n",
    "  u, v, g = extended_euclidean(consecutive_modulus, first_modulus)\n",
    "\n",
    "  assert g == 1, ValueError('the moduli are not relatively prime')\n",
    "\n",
    "  return (first_remainder*consecutive_modulus*u + consecutive_remainder*first_modulus*v) % (first_modulus*consecutive_modulus), first_modulus*consecutive_modulus\n",
    "\n",
    "def polynomial_root(exponent, a, modulus):\n",
    "  u = inv_mod(exponent, modulus - 1)\n",
    "\n",
    "  result = fast_exp(a, u, modulus)\n",
    "\n",
    "  return result\n",
    "\n",
    "def cf_float(x, n):\n",
    "  cf = []\n",
    "  for _ in range(n):\n",
    "    cf.append(int(x))\n",
    "    x = 1 / (x % 1)\n",
    "  return cf\n",
    "\n",
    "def continued_frac(num, den):\n",
    "  cf = []\n",
    "  while den != 0:\n",
    "    cf.append(num//den)\n",
    "    num, den = den, num % den\n",
    "  return cf\n",
    "\n",
    "def get_convergents(cf):\n",
    "  convergents = [[0, 1], [1, 0]]\n",
    "  for a in cf:\n",
    "    hk2, hk1 = convergents[-2:]\n",
    "    convergents.append([a*hk1[0] + hk2[0], a*hk1[1] + hk2[1]])\n",
    "  return convergents[2:]\n",
    "\n",
    "def crack_rsa(e, n):\n",
    "  convergents = get_convergents(continued_frac(e, n))\n",
    "  for convergent in convergents:\n",
    "    k, d = convergent\n",
    "    if k != 0 and (phi := (d * e - 1) // k) != 0:\n",
    "      p_q = n - phi + 1\n",
    "      disc = p_q**2 - 4*n\n",
    "      if disc > 0:\n",
    "        p, q = (p_q + math.isqrt(disc)) // 2, (p_q - math.isqrt(disc)) // 2\n",
    "        if p*q == n:\n",
    "          return d, p, q\n",
    "  return -1, -1, -1\n",
    "\n",
    "def pollard_rho(n):\n",
    "  f = lambda x_: x_**2 + 1\n",
    "  x = 2\n",
    "  y = 2\n",
    "  g = 1\n",
    "  count = 0\n",
    "  while g == 1:\n",
    "    x = f(x) % n\n",
    "    y = f(f(y)) % n\n",
    "    _, _, g = extended_euclidean(abs(x-y), n)\n",
    "    count += 1\n",
    "  return g, count\n",
    "\n",
    "def fast_exp_mont(base, k, modulus):\n",
    "  R_0 = 1\n",
    "  R_1 = base\n",
    "  exponent = format(k, 'b')\n",
    "  for bit in exponent:\n",
    "    if bit == '0':\n",
    "      R_1 = R_1 * R_0 % modulus\n",
    "      R_0 = R_0**2 % modulus\n",
    "    else: \n",
    "      R_0 = R_1 * R_0 % modulus\n",
    "      R_1 = R_1**2 % modulus\n",
    "  return R_0"
   ]
  },
  {
   "cell_type": "code",
   "execution_count": 18,
   "metadata": {},
   "outputs": [],
   "source": [
    "class EC_Point:\n",
    "  def __init__(self, x, y, a, b, modulus, zero=False):\n",
    "    assert (y**2 - (x**3 + a*x + b)) % modulus == 0 or zero, ValueError(f'({x}, {y}) does not satisfy y**2 = x**3 + {a}*x + {b} (mod {modulus})')\n",
    "    \n",
    "    self.x = x\n",
    "    self.y = y\n",
    "    self.a = a\n",
    "    self.b = b\n",
    "    self.modulus = modulus\n",
    "    self.zero = zero\n",
    "\n",
    "  def __str__(self):\n",
    "    if self.zero:\n",
    "      return '0'\n",
    "    \n",
    "    return f'({self.x}, {self.y})'\n",
    "\n",
    "  def __repr__(self):\n",
    "    return f'{self.__class__.__name__}(x={self.x}, y={self.y}, a={self.a}, b={self.b}, modulus={self.modulus}, zero={self.zero})'\n",
    "\n",
    "  def __add__(self, Q):\n",
    "    assert self.a == Q.a, ValueError('a values do not match')\n",
    "    assert self.b == Q.b, ValueError('b values do not match')\n",
    "    assert self.modulus == Q.modulus, ValueError('moduli do not match')\n",
    "\n",
    "    if self.zero:\n",
    "      return EC_Point(Q.x, Q.y, Q.a, Q.b, Q.modulus, Q.zero)\n",
    "\n",
    "    if Q.zero:\n",
    "      return EC_Point(self.x, self.y, self.a, self.b, self.modulus, self.zero)\n",
    "\n",
    "    s = 0\n",
    "    \n",
    "    if (self.x - Q.x) % self.modulus != 0:\n",
    "      s = (Q.y - self.y)*inv_mod(Q.x - self.x, self.modulus) % self.modulus\n",
    "    \n",
    "    elif (self.y - Q.y) % self.modulus != 0:\n",
    "      return EC_Point(self.x, self.y, self.a, self.b, self.modulus, zero=True)\n",
    "\n",
    "    else:\n",
    "      if self.y == 0:\n",
    "        return EC_Point(self.x, self.y, self.a, self.b, self.modulus, zero=True)\n",
    "\n",
    "      else:\n",
    "        s = (3*self.x**2 + self.a)*inv_mod(2*self.y, self.modulus) % self.modulus\n",
    "\n",
    "    x_r = (s**2 - self.x - Q.x) % self.modulus\n",
    "    y_r = -(self.y + s*(x_r - self.x)) % self.modulus\n",
    "    return EC_Point(x_r, y_r, self.a, self.b, self.modulus)\n",
    "\n",
    "  def __sub__(self, Q):\n",
    "    return self + EC_Point(Q.x, -Q.y % Q.modulus, Q.a, Q.b, Q.modulus, Q.zero)\n",
    "\n",
    "  def __mul__(self, k):\n",
    "    assert k >= 0, ValueError('cannot use a negative scalar')\n",
    "\n",
    "    total = EC_Point(self.x, self.y, self.a, self.b, self.modulus, zero=True)\n",
    "\n",
    "    if not self.zero:\n",
    "      multiple = EC_Point(self.x, self.y, self.a, self.b, self.modulus, self.zero)\n",
    "      while k != 0:\n",
    "        if k % 2 == 1:\n",
    "          total = total + multiple\n",
    "        k = k // 2\n",
    "        multiple = multiple + multiple\n",
    "    return total\n",
    "\n",
    "  __rmul__ = __mul__"
   ]
  },
  {
   "cell_type": "code",
   "execution_count": 4,
   "metadata": {},
   "outputs": [
    {
     "name": "stdout",
     "output_type": "stream",
     "text": [
      "(38, 38)\n"
     ]
    }
   ],
   "source": [
    "A = EC_Point(38, 38, 0, 1, 101)\n",
    "print(A)"
   ]
  },
  {
   "cell_type": "code",
   "execution_count": 5,
   "metadata": {},
   "outputs": [
    {
     "data": {
      "text/plain": [
       "EC_Point(x=3173, y=-178733, a=0, b=1, modulus=101, zero=False)"
      ]
     },
     "execution_count": 5,
     "metadata": {},
     "output_type": "execute_result"
    }
   ],
   "source": [
    "A+A"
   ]
  },
  {
   "cell_type": "code",
   "execution_count": 6,
   "metadata": {},
   "outputs": [
    {
     "data": {
      "text/plain": [
       "EC_Point(x=38, y=38, a=0, b=1, modulus=101, zero=True)"
      ]
     },
     "execution_count": 6,
     "metadata": {},
     "output_type": "execute_result"
    }
   ],
   "source": [
    "A-A"
   ]
  },
  {
   "cell_type": "code",
   "execution_count": 7,
   "metadata": {},
   "outputs": [
    {
     "ename": "AssertionError",
     "evalue": "(38, 39) does not satisfy y**2 = x**3 + 0*x + 1 (mod 101)",
     "output_type": "error",
     "traceback": [
      "\u001b[0;31m---------------------------------------------------------------------------\u001b[0m",
      "\u001b[0;31mAssertionError\u001b[0m                            Traceback (most recent call last)",
      "\u001b[0;32m/tmp/ipykernel_71679/3594237120.py\u001b[0m in \u001b[0;36m<module>\u001b[0;34m\u001b[0m\n\u001b[0;32m----> 1\u001b[0;31m \u001b[0mA\u001b[0m \u001b[0;34m=\u001b[0m \u001b[0mEC_Point\u001b[0m\u001b[0;34m(\u001b[0m\u001b[0;36m38\u001b[0m\u001b[0;34m,\u001b[0m \u001b[0;36m39\u001b[0m\u001b[0;34m,\u001b[0m \u001b[0;36m0\u001b[0m\u001b[0;34m,\u001b[0m \u001b[0;36m1\u001b[0m\u001b[0;34m,\u001b[0m \u001b[0;36m101\u001b[0m\u001b[0;34m)\u001b[0m\u001b[0;34m\u001b[0m\u001b[0;34m\u001b[0m\u001b[0m\n\u001b[0m",
      "\u001b[0;32m/tmp/ipykernel_71679/623668211.py\u001b[0m in \u001b[0;36m__init__\u001b[0;34m(self, x, y, a, b, modulus, zero)\u001b[0m\n\u001b[1;32m      1\u001b[0m \u001b[0;32mclass\u001b[0m \u001b[0mEC_Point\u001b[0m\u001b[0;34m:\u001b[0m\u001b[0;34m\u001b[0m\u001b[0;34m\u001b[0m\u001b[0m\n\u001b[1;32m      2\u001b[0m   \u001b[0;32mdef\u001b[0m \u001b[0m__init__\u001b[0m\u001b[0;34m(\u001b[0m\u001b[0mself\u001b[0m\u001b[0;34m,\u001b[0m \u001b[0mx\u001b[0m\u001b[0;34m,\u001b[0m \u001b[0my\u001b[0m\u001b[0;34m,\u001b[0m \u001b[0ma\u001b[0m\u001b[0;34m,\u001b[0m \u001b[0mb\u001b[0m\u001b[0;34m,\u001b[0m \u001b[0mmodulus\u001b[0m\u001b[0;34m,\u001b[0m \u001b[0mzero\u001b[0m\u001b[0;34m=\u001b[0m\u001b[0;32mFalse\u001b[0m\u001b[0;34m)\u001b[0m\u001b[0;34m:\u001b[0m\u001b[0;34m\u001b[0m\u001b[0;34m\u001b[0m\u001b[0m\n\u001b[0;32m----> 3\u001b[0;31m     \u001b[0;32massert\u001b[0m \u001b[0;34m(\u001b[0m\u001b[0my\u001b[0m\u001b[0;34m**\u001b[0m\u001b[0;36m2\u001b[0m \u001b[0;34m-\u001b[0m \u001b[0;34m(\u001b[0m\u001b[0mx\u001b[0m\u001b[0;34m**\u001b[0m\u001b[0;36m3\u001b[0m \u001b[0;34m+\u001b[0m \u001b[0ma\u001b[0m\u001b[0;34m*\u001b[0m\u001b[0mx\u001b[0m \u001b[0;34m+\u001b[0m \u001b[0mb\u001b[0m\u001b[0;34m)\u001b[0m\u001b[0;34m)\u001b[0m \u001b[0;34m%\u001b[0m \u001b[0mmodulus\u001b[0m \u001b[0;34m==\u001b[0m \u001b[0;36m0\u001b[0m \u001b[0;32mor\u001b[0m \u001b[0mzero\u001b[0m\u001b[0;34m,\u001b[0m \u001b[0mValueError\u001b[0m\u001b[0;34m(\u001b[0m\u001b[0;34mf'({x}, {y}) does not satisfy y**2 = x**3 + {a}*x + {b} (mod {modulus})'\u001b[0m\u001b[0;34m)\u001b[0m\u001b[0;34m\u001b[0m\u001b[0;34m\u001b[0m\u001b[0m\n\u001b[0m\u001b[1;32m      4\u001b[0m \u001b[0;34m\u001b[0m\u001b[0m\n\u001b[1;32m      5\u001b[0m     \u001b[0mself\u001b[0m\u001b[0;34m.\u001b[0m\u001b[0mx\u001b[0m \u001b[0;34m=\u001b[0m \u001b[0mx\u001b[0m\u001b[0;34m\u001b[0m\u001b[0;34m\u001b[0m\u001b[0m\n",
      "\u001b[0;31mAssertionError\u001b[0m: (38, 39) does not satisfy y**2 = x**3 + 0*x + 1 (mod 101)"
     ]
    }
   ],
   "source": [
    "A = EC_Point(38, 39, 0, 1, 101)"
   ]
  },
  {
   "cell_type": "code",
   "execution_count": 19,
   "metadata": {},
   "outputs": [
    {
     "data": {
      "text/plain": [
       "EC_Point(x=2, y=98, a=0, b=1, modulus=101, zero=False)"
      ]
     },
     "execution_count": 19,
     "metadata": {},
     "output_type": "execute_result"
    }
   ],
   "source": [
    "A = EC_Point(-1, 0, 0, 1, 101)\n",
    "B = EC_Point(0, 1, 0, 1, 101)\n",
    "A+B"
   ]
  },
  {
   "cell_type": "code",
   "execution_count": 27,
   "metadata": {},
   "outputs": [
    {
     "name": "stdout",
     "output_type": "stream",
     "text": [
      "(38, 38)\n",
      "(42, 37)\n",
      "(40, 13)\n",
      "(53, 99)\n",
      "(62, 26)\n",
      "(77, 32)\n",
      "(93, 87)\n",
      "(15, 89)\n",
      "(68, 90)\n",
      "(20, 74)\n",
      "(47, 81)\n",
      "(70, 56)\n",
      "(45, 78)\n",
      "(96, 49)\n",
      "(10, 30)\n",
      "(84, 21)\n",
      "(2, 98)\n",
      "(75, 91)\n",
      "(58, 48)\n",
      "(81, 92)\n",
      "(50, 8)\n",
      "(95, 54)\n",
      "(90, 36)\n",
      "(87, 61)\n",
      "(54, 39)\n",
      "(67, 17)\n",
      "(92, 22)\n",
      "(29, 94)\n",
      "(59, 59)\n",
      "(5, 96)\n",
      "(52, 57)\n",
      "(35, 31)\n",
      "(11, 25)\n",
      "(0, 100)\n",
      "(43, 18)\n",
      "(36, 55)\n",
      "(74, 66)\n",
      "(32, 34)\n",
      "(9, 15)\n",
      "(18, 51)\n",
      "(28, 6)\n",
      "(21, 77)\n",
      "(56, 33)\n",
      "(13, 28)\n",
      "(34, 4)\n",
      "(76, 43)\n",
      "(72, 16)\n",
      "(4, 41)\n",
      "(39, 72)\n",
      "(69, 19)\n",
      "(100, 0)\n",
      "(69, 82)\n",
      "(39, 29)\n",
      "(4, 60)\n",
      "(72, 85)\n",
      "(76, 58)\n",
      "(34, 97)\n",
      "(13, 73)\n",
      "(56, 68)\n",
      "(21, 24)\n",
      "(28, 95)\n",
      "(18, 50)\n",
      "(9, 86)\n",
      "(32, 67)\n",
      "(74, 35)\n",
      "(36, 46)\n",
      "(43, 83)\n",
      "(0, 1)\n",
      "(11, 76)\n",
      "(35, 70)\n",
      "(52, 44)\n",
      "(5, 5)\n",
      "(59, 42)\n",
      "(29, 7)\n",
      "(92, 79)\n",
      "(67, 84)\n",
      "(54, 62)\n",
      "(87, 40)\n",
      "(90, 65)\n",
      "(95, 47)\n",
      "(50, 93)\n",
      "(81, 9)\n",
      "(58, 53)\n",
      "(75, 10)\n",
      "(2, 3)\n",
      "(84, 80)\n",
      "(10, 71)\n",
      "(96, 52)\n",
      "(45, 23)\n",
      "(70, 45)\n",
      "(47, 20)\n",
      "(20, 27)\n",
      "(68, 11)\n",
      "(15, 12)\n",
      "(93, 14)\n",
      "(77, 69)\n",
      "(62, 75)\n",
      "(53, 2)\n",
      "(40, 88)\n",
      "(42, 64)\n",
      "(38, 63)\n",
      "0\n"
     ]
    }
   ],
   "source": [
    "A = EC_Point(38, 38, 0, 1, 101)\n",
    "B = EC_Point(38, 38, 0, 1, 101, zero=True)\n",
    "for _ in range(102):\n",
    "  B = B + A\n",
    "  print(B)"
   ]
  },
  {
   "cell_type": "code",
   "execution_count": 31,
   "metadata": {},
   "outputs": [
    {
     "name": "stdout",
     "output_type": "stream",
     "text": [
      "(62, 26), (62, 26)\n"
     ]
    }
   ],
   "source": [
    "B = A + A + A + A + A\n",
    "C = 5 * A\n",
    "print(f'{B}, {C}')"
   ]
  },
  {
   "cell_type": "code",
   "execution_count": null,
   "metadata": {},
   "outputs": [],
   "source": []
  }
 ],
 "metadata": {
  "interpreter": {
   "hash": "8a7cea5f4d06b4da4fdb6f48310548cb243399064ce9faef36a0ecdde5173896"
  },
  "kernelspec": {
   "display_name": "Python 3.9.7 ('MSCS-basic')",
   "language": "python",
   "name": "python3"
  },
  "language_info": {
   "codemirror_mode": {
    "name": "ipython",
    "version": 3
   },
   "file_extension": ".py",
   "mimetype": "text/x-python",
   "name": "python",
   "nbconvert_exporter": "python",
   "pygments_lexer": "ipython3",
   "version": "3.9.7"
  },
  "orig_nbformat": 4
 },
 "nbformat": 4,
 "nbformat_minor": 2
}
