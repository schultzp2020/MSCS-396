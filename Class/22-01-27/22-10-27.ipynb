{
 "cells": [
  {
   "cell_type": "code",
   "execution_count": 128,
   "metadata": {},
   "outputs": [],
   "source": [
    "import time"
   ]
  },
  {
   "cell_type": "code",
   "execution_count": 136,
   "metadata": {},
   "outputs": [],
   "source": [
    "def timer(func):\n",
    "  def wrapper(*args, **kwargs):\n",
    "    t1 = time.time()\n",
    "    result = func(*args, **kwargs)\n",
    "    t2 = time.time()\n",
    "    print(f'Function {func.__name__!r} executed in {(t2-t1):4f}s')\n",
    "    return result\n",
    "  return wrapper"
   ]
  },
  {
   "cell_type": "code",
   "execution_count": 130,
   "metadata": {},
   "outputs": [],
   "source": [
    "def gcd(a, b):\n",
    "  c = a % b\n",
    "  while c != 0:\n",
    "    a, b = b, c\n",
    "    c = a % b\n",
    "  return b"
   ]
  },
  {
   "cell_type": "code",
   "execution_count": 131,
   "metadata": {},
   "outputs": [],
   "source": [
    "def rgcd(a, b):\n",
    "  c = a % b\n",
    "  if c != 0:\n",
    "    b = rgcd(b, c)\n",
    "  return b"
   ]
  },
  {
   "cell_type": "code",
   "execution_count": 142,
   "metadata": {},
   "outputs": [
    {
     "name": "stdout",
     "output_type": "stream",
     "text": [
      "Function 'gcd_timer' executed in 0.000218s\n",
      "Function 'rgcd_timer' executed in 0.000305s\n"
     ]
    }
   ],
   "source": [
    "@timer\n",
    "def gcd_timer(a, b, power):\n",
    "  for _ in range(10^power):\n",
    "    gcd(a, b)\n",
    "\n",
    "@timer\n",
    "def rgcd_timer(a, b, power):\n",
    "  for _ in range(10^power):\n",
    "    rgcd(a, b)\n",
    "\n",
    "gcd_timer(33, 27, 1000)\n",
    "rgcd_timer(33, 27, 1000)"
   ]
  },
  {
   "cell_type": "code",
   "execution_count": null,
   "metadata": {},
   "outputs": [],
   "source": []
  }
 ],
 "metadata": {
  "interpreter": {
   "hash": "8a7cea5f4d06b4da4fdb6f48310548cb243399064ce9faef36a0ecdde5173896"
  },
  "kernelspec": {
   "display_name": "Python 3.9.7 64-bit ('MSCS-basic': conda)",
   "language": "python",
   "name": "python3"
  },
  "language_info": {
   "codemirror_mode": {
    "name": "ipython",
    "version": 3
   },
   "file_extension": ".py",
   "mimetype": "text/x-python",
   "name": "python",
   "nbconvert_exporter": "python",
   "pygments_lexer": "ipython3",
   "version": "3.9.7"
  },
  "orig_nbformat": 4
 },
 "nbformat": 4,
 "nbformat_minor": 2
}
