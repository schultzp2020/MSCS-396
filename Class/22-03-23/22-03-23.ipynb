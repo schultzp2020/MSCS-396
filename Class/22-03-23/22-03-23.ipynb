{
 "cells": [
  {
   "cell_type": "code",
   "execution_count": 1,
   "metadata": {},
   "outputs": [],
   "source": [
    "import re"
   ]
  },
  {
   "cell_type": "code",
   "execution_count": 2,
   "metadata": {},
   "outputs": [],
   "source": [
    "def slide_count(ciphertext, key_upper_bound=15):\n",
    "  slides = []\n",
    "  for i in range(1, min(key_upper_bound, len(ciphertext))):\n",
    "    A = ciphertext[:-i]\n",
    "    B = ciphertext[i:]\n",
    "    match = 0\n",
    "    for A_j, B_j in zip(A, B):\n",
    "      if A_j == B_j:\n",
    "        match += 1\n",
    "    slides.append((i, match))\n",
    "  return slides"
   ]
  },
  {
   "cell_type": "code",
   "execution_count": 3,
   "metadata": {},
   "outputs": [],
   "source": [
    "def guess_key(ciphertext, key_length):\n",
    "  lf = [0.082, 0.015, 0.027, 0.047, 0.13, 0.022, 0.02, 0.062, 0.069, 0.0016, 0.0081, 0.04, 0.027, 0.067, 0.078, 0.019, 0.0011, 0.059, 0.062, 0.096, 0.027, 0.0097, 0.024, 0.0015, 0.02, 0.00078]\n",
    "  key = \"\"\n",
    "  for i in range(key_length):\n",
    "    text = ciphertext[i::key_length]\n",
    "    counts = [text.count(chr(ord('a') + j)) / len(text) for j in range(26)]\n",
    "    max_val = 0\n",
    "    slide = 0\n",
    "    for j in range(26):\n",
    "      rot = lf[-j:] + lf[:-j]\n",
    "      dot_prod = 0\n",
    "      for k in range(26):\n",
    "        dot_prod += rot[k] * counts[k]\n",
    "      if dot_prod > max_val:\n",
    "        max_val = dot_prod\n",
    "        slide = j\n",
    "    key += chr(slide + ord('a'))\n",
    "  return key"
   ]
  },
  {
   "cell_type": "code",
   "execution_count": 4,
   "metadata": {},
   "outputs": [],
   "source": [
    "def vigenere_decrypt(ciphertext, key):\n",
    "  ciphertext = re.sub('[^a-z]', '', ciphertext.lower())\n",
    "  key = re.sub('[^a-z]', '', key.lower())\n",
    "  key_length = len(key)\n",
    "  plaintext = \"\"\n",
    "  blocks = [ciphertext[i:i + key_length] for i in range(0, len(ciphertext), key_length)]\n",
    "  for block in blocks:\n",
    "    for b_char, k_char in zip(block, key):\n",
    "      plaintext += chr((ord(b_char) - ord(k_char)) % 26 + ord('a'))\n",
    "  return plaintext"
   ]
  },
  {
   "cell_type": "code",
   "execution_count": 5,
   "metadata": {},
   "outputs": [],
   "source": [
    "A = 'fysmqrnyxznncsyvmkhinmpjkspzwlwneffhucetnhlpjqlvtanxpozofkahcnscdolvxumihcipskalrlnpjonfkdrnsajfnrbudhljnshrusnltemhmkahcuxmsunyxznuccqwzvepkycrdohumonjfpxickhmquannbyjlaquertgytnynnscxslzzocmrmasleflwndywscelarnfrjrudhupgplislzopwaefjwlanzcjzujfmwkvvnschchjxuciqrmsafolahpbyvukponhptjfuermxlxmkuimxywgplypythtnmocxhllvarppmkhbvllnhoqnhcjmonltemhiwmonjpmuzykhhunpptfnftixftqmwnrgkcitlxhcknanhpulcpvkuvyyrqoszgnrnddtihutariymsgotawacyandfvlhwxzplohzspwatrxdinxybcyqzqbwhyvudrthbvfzquwjxsydfvbnwgpsfpmvnzqchhnyxpamldjhsrgkquannbyjlwaoocsqyzgknyounzfubjcuecyvukzveyclrshklsxhrcxhusepbbpbxvilekwiezjqbrgnnxqmwzcxaajhorwohjblwnnyzgyjtumunatfxzgnusljqsrgxyryyajvukazqyhlyvukfhwetliolvfvayogxdijxkcidsktyiporfpcawfjtynmfdkslrusnnsyshiibnqnefjamvecnmmwfpicbzqcyeyvywhyvmembvctaaqyjywsutvbbnzkjrvlmdqyyyqchxmyjcymkovlllbuybzgoiihcczlxdoilbrhrgsjuibhkfjrmsmrflxvuchhymbulydyismzzucicciiwvmongflislruzxffrjryjivccdknhcjmonccpnubkbarmefjwlunahnzrmfinhmomfamuimxywgplyohumvylztnryexdpolpigzfkaqytpkinlklbynswwnplblbsyxpyvgaqyayywyemzdzqcwohtxvonscxswfevwcpqfbxjnjqcdltknyxunwpqxwnpporwsatbmkkhrhdrmsgkhhunppyvyzkmxlxcwgsjmlvmzdlcpvkuvyyryvyybzcicwttnyxwaydcshezgnxzrpjonskpcutlnguybzcicwttlviljnpbnbdlkpnmlliimlkwjntmsguceojptllwhubynwemgxytmaqypqyovcbzqgplyczrghkmzjzhykryjhywtjyimonmpqyonvlaxjcmasnybzuyedfqnjulbomknhnvwaxunysrcupvafo'"
   ]
  },
  {
   "cell_type": "code",
   "execution_count": 8,
   "metadata": {},
   "outputs": [
    {
     "data": {
      "text/plain": [
       "'weholdthesetruthstobeselfevidentthatallmenarecreatedequalthattheyareendowedbytheircreatorwithcertainunalienablerightsthatamongthesearelifelibertyandthepursuitofhappinessthattosecuretheserightsgovernmentsareinstitutedamongmenderivingtheirjustpowersfromtheconsentofthegovernedthatwheneveranyformofgovernmentbecomesdestructiveoftheseendsitistherightofthepeopletoalterortoabolishitandtoinstitutenewgovernmentlayingitsfoundationonsuchprinciplesandorganizingitspowersinsuchformastothemshallseemmostlikelytoeffecttheirsafetyandhappinessprudenceindeedwilldictatethatgovernmentslongestablishedshouldnotbechangedforlightandtransientcausesandaccordinglyallexperiencehathshewnthatmankindaremoredisposedtosufferwhileevilsaresufferablethantorightthemselvesbyabolishingtheformstowhichtheyareaccustomedbutwhenalongtrainofabusesandusurpationspursuinginvariablythesameobjectevincesadesigntoreducethemunderabsolutedespotismitistheirrightitistheirdutytothrowoffsuchgovernmentandtoprovidenewguardsfortheirfuturesecuritysuchhasbeenthepatientsufferanceofthesecoloniesandsuchisnowthenecessitywhichconstrainsthemtoaltertheirformersystemsofgovernmentthehistoryofthepresentkingofgreatbritainisahistoryofrepeatedinjuriesandusurpationsallhavingindirectobjecttheestablishmentofanabsolutetyrannyoverthesestatestoprovethisletfactsbesubmittedtoacandidworld'"
      ]
     },
     "execution_count": 8,
     "metadata": {},
     "output_type": "execute_result"
    }
   ],
   "source": [
    "slides = slide_count(A)\n",
    "key = guess_key(A, 10)\n",
    "vigenere_decrypt(A, key)"
   ]
  },
  {
   "cell_type": "code",
   "execution_count": null,
   "metadata": {},
   "outputs": [
    {
     "data": {
      "text/plain": [
       "'julyfourth'"
      ]
     },
     "execution_count": 7,
     "metadata": {},
     "output_type": "execute_result"
    }
   ],
   "source": []
  },
  {
   "cell_type": "code",
   "execution_count": null,
   "metadata": {},
   "outputs": [],
   "source": []
  }
 ],
 "metadata": {
  "interpreter": {
   "hash": "8a7cea5f4d06b4da4fdb6f48310548cb243399064ce9faef36a0ecdde5173896"
  },
  "kernelspec": {
   "display_name": "Python 3.9.7 ('MSCS-basic')",
   "language": "python",
   "name": "python3"
  },
  "language_info": {
   "codemirror_mode": {
    "name": "ipython",
    "version": 3
   },
   "file_extension": ".py",
   "mimetype": "text/x-python",
   "name": "python",
   "nbconvert_exporter": "python",
   "pygments_lexer": "ipython3",
   "version": "3.9.7"
  },
  "orig_nbformat": 4
 },
 "nbformat": 4,
 "nbformat_minor": 2
}
