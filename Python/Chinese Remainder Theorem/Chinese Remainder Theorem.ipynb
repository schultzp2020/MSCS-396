{
 "cells": [
  {
   "cell_type": "code",
   "execution_count": 1,
   "metadata": {},
   "outputs": [],
   "source": [
    "def extended_gcd(a, b):\n",
    "  s, old_s = 0, 1\n",
    "  r, old_r = b, a\n",
    "\n",
    "  while r != 0:\n",
    "    quotient = old_r // r\n",
    "    old_r, r = r, old_r - quotient * r\n",
    "    old_s, s = s, old_s - quotient * s\n",
    "  \n",
    "  if b != 0:\n",
    "    bezout_t = (old_r - old_s * a) // b\n",
    "  else:\n",
    "    bezout_t = 0\n",
    "\n",
    "  return old_r, old_s, bezout_t"
   ]
  },
  {
   "cell_type": "code",
   "execution_count": 2,
   "metadata": {},
   "outputs": [],
   "source": [
    "def inv_mod(a, modulus):\n",
    "  g, s, _ = extended_gcd(a, modulus)\n",
    "  if g != 1:\n",
    "    raise ValueError('the modular inverse does not exist')\n",
    "  else:\n",
    "    return s % modulus"
   ]
  },
  {
   "cell_type": "code",
   "execution_count": 3,
   "metadata": {},
   "outputs": [],
   "source": [
    "def chinese_remainder(n, a, modulus):\n",
    "  assert len(n) == len(a), \"The length of n and a must be the same\"\n",
    "\n",
    "  result = 0\n",
    "  for ni, ai in zip(n, a):\n",
    "    bi = m // ni\n",
    "\n",
    "    result += ai * bi * inv_mod(bi, ni)\n",
    "\n",
    "  return result % modulus"
   ]
  },
  {
   "cell_type": "code",
   "execution_count": 4,
   "metadata": {},
   "outputs": [
    {
     "data": {
      "text/plain": [
       "13"
      ]
     },
     "execution_count": 4,
     "metadata": {},
     "output_type": "execute_result"
    }
   ],
   "source": [
    "n = [2, 5, 11]\n",
    "a = [1, 3, 2]\n",
    "m = 110\n",
    "\n",
    "chinese_remainder(n, a, m)"
   ]
  },
  {
   "cell_type": "code",
   "execution_count": null,
   "metadata": {},
   "outputs": [],
   "source": []
  }
 ],
 "metadata": {
  "interpreter": {
   "hash": "0f8cd87952bc4d263d98f1beaa42c4301d8eaf945c7ea7255e40cfc9774d6c1a"
  },
  "kernelspec": {
   "display_name": "Python 3.9.7 64-bit ('MSCS-basic': conda)",
   "language": "python",
   "name": "python3"
  },
  "language_info": {
   "codemirror_mode": {
    "name": "ipython",
    "version": 3
   },
   "file_extension": ".py",
   "mimetype": "text/x-python",
   "name": "python",
   "nbconvert_exporter": "python",
   "pygments_lexer": "ipython3",
   "version": "3.9.7"
  },
  "orig_nbformat": 4
 },
 "nbformat": 4,
 "nbformat_minor": 2
}
