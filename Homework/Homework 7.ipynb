{
 "cells": [
  {
   "cell_type": "code",
   "execution_count": 1,
   "metadata": {},
   "outputs": [],
   "source": [
    "import numpy as np"
   ]
  },
  {
   "cell_type": "code",
   "execution_count": 11,
   "metadata": {},
   "outputs": [],
   "source": [
    "def RC4_K(key, n=256):\n",
    "  S = np.array(range(n), dtype=int)\n",
    "  j = 0\n",
    "  for i in range(n):\n",
    "    j = (j + S[i] + key[i % len(key)]) % n\n",
    "    S[i], S[j] = S[j], S[i]\n",
    "  return S\n",
    "\n",
    "def RC4_PRGA(length, S, n=256):\n",
    "  key_stream = np.zeros(length, dtype=int)\n",
    "  i = 0\n",
    "  j = 0\n",
    "  for k in range(length):\n",
    "    i = (i + 1) % n\n",
    "    j = (j + S[i]) % n\n",
    "    S[i], S[j] = S[j], S[i]\n",
    "    key_stream[k] = S[(S[i] + S[j]) % n]\n",
    "  return key_stream\n",
    "\n",
    "def extended_euclidean(m, n):\n",
    "  if n == 0:\n",
    "    return 1, 0, m\n",
    "  x, y, g = extended_euclidean(n, m % n)\n",
    "  return y, x - (m // n)*y, g\n",
    "\n",
    "def inv_mod(a, modulus):\n",
    "  s, _, g = extended_euclidean(a, modulus)\n",
    "  assert g == 1, ValueError('the modular inverse does not exist')\n",
    "  return s % modulus\n",
    "\n",
    "def mod_n_matrix(n):\n",
    "  return np.random.randint(0, n, size=(2, 2))\n",
    "\n",
    "def mod_n_matrix_inverse(m, n):\n",
    "  determinant = inv_mod((m[0][0]*m[1][1] - m[0][1]*m[1][0]) % n, n)\n",
    "  print(determinant, (m[0][0]*m[1][1] - m[0][1]*m[1][0]) % n)\n",
    "  inverse = np.zeros((2, 2), dtype=np.int32)\n",
    "  inverse[0][0] = (m[1][1] * determinant) % n\n",
    "  inverse[1][1] = (m[0][0] * determinant) % n\n",
    "  inverse[0][1] = (-m[0][1] * determinant) % n\n",
    "  inverse[1][0] = (-m[1][0] * determinant) % n\n",
    "  return inverse\n",
    "\n",
    "def solve_mod_n_matrix(A, x, n):\n",
    "  return (A@x)%n"
   ]
  },
  {
   "cell_type": "code",
   "execution_count": 3,
   "metadata": {},
   "outputs": [
    {
     "data": {
      "text/plain": [
       "array([3, 2, 1, 4, 0])"
      ]
     },
     "execution_count": 3,
     "metadata": {},
     "output_type": "execute_result"
    }
   ],
   "source": [
    "RC4_K([4, 1, 3, 1], 5)"
   ]
  },
  {
   "cell_type": "code",
   "execution_count": 4,
   "metadata": {},
   "outputs": [
    {
     "data": {
      "text/plain": [
       "array([4, 0, 4, 2])"
      ]
     },
     "execution_count": 4,
     "metadata": {},
     "output_type": "execute_result"
    }
   ],
   "source": [
    "RC4_PRGA(4, RC4_K([4, 1, 3, 1], 5), 5)"
   ]
  },
  {
   "cell_type": "code",
   "execution_count": 5,
   "metadata": {},
   "outputs": [
    {
     "name": "stdout",
     "output_type": "stream",
     "text": [
      "A=array([[9, 5],\n",
      "       [0, 2]])\n"
     ]
    }
   ],
   "source": [
    "A = mod_n_matrix(11)\n",
    "print(f'{A=}')"
   ]
  },
  {
   "cell_type": "code",
   "execution_count": 12,
   "metadata": {},
   "outputs": [
    {
     "name": "stdout",
     "output_type": "stream",
     "text": [
      "8 7\n",
      "A_inv=array([[5, 4],\n",
      "       [0, 6]])\n",
      "b=array([[9],\n",
      "       [1]], dtype=int32)\n",
      "result=array([[5],\n",
      "       [6]], dtype=int32)\n"
     ]
    }
   ],
   "source": [
    "x = np.array([[5], [6]])\n",
    "b = solve_mod_n_matrix(A, x, 11)\n",
    "A_inv = mod_n_matrix_inverse(A, 11)\n",
    "result = solve_mod_n_matrix(A_inv, b, 11)\n",
    "print(f'{A_inv=}\\n{b=}\\n{result=}')"
   ]
  },
  {
   "cell_type": "markdown",
   "metadata": {},
   "source": [
    "$\\begin{pmatrix}\n",
    "   9 & 5 \\\\\n",
    "   0 & 2\n",
    "\\end{pmatrix}\\begin{pmatrix}\n",
    "   5 \\\\\n",
    "   6\n",
    "\\end{pmatrix}=\\begin{pmatrix}\n",
    "   9 \\\\\n",
    "   1\n",
    "\\end{pmatrix}$\n",
    "\n",
    "$\\begin{pmatrix}\n",
    "   9 & 5 \\\\\n",
    "   0 & 2\n",
    "\\end{pmatrix}^{-1} = \\dfrac{1}{7}\\begin{pmatrix}\n",
    "   2 & -5 \\\\\n",
    "   0 & 9\n",
    "\\end{pmatrix} = 8\\begin{pmatrix}\n",
    "   2 & 6 \\\\\n",
    "   0 & 9\n",
    "\\end{pmatrix}=\\begin{pmatrix}\n",
    "   16 & 48 \\\\\n",
    "   0 & 72\n",
    "\\end{pmatrix}=\\begin{pmatrix}\n",
    "   5 & 4 \\\\\n",
    "   0 & 6\n",
    "\\end{pmatrix}$\n",
    "\n",
    "$\\begin{pmatrix}\n",
    "   5 & 4 \\\\\n",
    "   0 & 6\n",
    "\\end{pmatrix}\\begin{pmatrix}\n",
    "   9 \\\\\n",
    "   1\n",
    "\\end{pmatrix}=\\begin{pmatrix}\n",
    "   49 \\\\\n",
    "   6\n",
    "\\end{pmatrix}=\\begin{pmatrix}\n",
    "   5 \\\\\n",
    "   6\n",
    "\\end{pmatrix}$"
   ]
  }
 ],
 "metadata": {
  "interpreter": {
   "hash": "0f8cd87952bc4d263d98f1beaa42c4301d8eaf945c7ea7255e40cfc9774d6c1a"
  },
  "kernelspec": {
   "display_name": "Python 3.9.7 ('MSCS-basic')",
   "language": "python",
   "name": "python3"
  },
  "language_info": {
   "codemirror_mode": {
    "name": "ipython",
    "version": 3
   },
   "file_extension": ".py",
   "mimetype": "text/x-python",
   "name": "python",
   "nbconvert_exporter": "python",
   "pygments_lexer": "ipython3",
   "version": "3.9.7"
  },
  "orig_nbformat": 4
 },
 "nbformat": 4,
 "nbformat_minor": 2
}
