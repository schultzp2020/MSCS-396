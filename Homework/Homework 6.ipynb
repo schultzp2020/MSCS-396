{
 "cells": [
  {
   "cell_type": "code",
   "execution_count": 1,
   "metadata": {},
   "outputs": [],
   "source": [
    "from collections import Counter"
   ]
  },
  {
   "cell_type": "code",
   "execution_count": 2,
   "metadata": {},
   "outputs": [],
   "source": [
    "checkerboard = {\n",
    "  \"t\": \"0\", \"o\": \"1\", \"e\": \"2\", \"r\": \"4\", \"s\": \"5\", \"i\": \"6\", \"n\": \"7\", \"a\": \"9\",\n",
    "  \"b\": \"30\", \"d\": \"31\", \"f\": \"32\", \"c\": \"33\", \"m\": \"34\", \"l\": \"35\", \"k\": \"36\", \"h\": \"37\", \"j\": \"38\", \"g\": \"39\",\n",
    "  \"q\": \"80\", \"u\": \"82\", \"w\": \"83\", \"z\": \"84\", \"v\": \"85\", \"x\": \"86\", \"y\": \"87\", \".\": \"88\", \"p\": \"89\",\n",
    "  \"0\": \"810\", \"1\": \"811\", \"2\": \"812\", \"3\": \"813\", \"4\": \"814\", \"5\": \"815\", \"6\": \"816\", \"7\": \"817\", \"8\": \"818\", \"9\": \"819\"\n",
    "  }"
   ]
  },
  {
   "cell_type": "code",
   "execution_count": 3,
   "metadata": {},
   "outputs": [
    {
     "name": "stdout",
     "output_type": "stream",
     "text": [
      "ciphertext='03724294290109351328128163520024567037227393565379358937930208837183285243497871320372523520024598989294903163232242703242808227336258895972869348935283253718235317102037900372352002429898929453294341421320270379734150352002458817037210372437973103723520024580973184942301037286332890617935358782733134341788'\n"
     ]
    }
   ],
   "source": [
    "message = 'thereareatotalof26lettersintheenglishalphabet.howevermanyoftheselettersappearatdifferentfrequencies.asanexampleweshouldnotethatthelettereappearsfarmoreoftenthanmostletters.ontheotherhandthelettersqandzarebothexceptionallyuncommon.'\n",
    "ciphertext = ''\n",
    "for char in message:\n",
    "  ciphertext += checkerboard[char]\n",
    "print(f'{ciphertext=}')"
   ]
  },
  {
   "cell_type": "code",
   "execution_count": 4,
   "metadata": {},
   "outputs": [
    {
     "name": "stdout",
     "output_type": "stream",
     "text": [
      "Counter({'3': 55, '2': 52, '0': 34, '7': 32, '8': 30, '9': 29, '5': 24, '4': 23, '1': 21, '6': 8})\n"
     ]
    }
   ],
   "source": [
    "digit_freq = Counter(ciphertext)\n",
    "print(f'{digit_freq}')"
   ]
  },
  {
   "cell_type": "code",
   "execution_count": 5,
   "metadata": {},
   "outputs": [
    {
     "name": "stdout",
     "output_type": "stream",
     "text": [
      "num_key='345335813819816'\n"
     ]
    }
   ],
   "source": [
    "key = 'mscs396'\n",
    "num_key = ''\n",
    "for char in key:\n",
    "  num_key += checkerboard[char]\n",
    "print(f'{num_key=}')"
   ]
  },
  {
   "cell_type": "code",
   "execution_count": 6,
   "metadata": {},
   "outputs": [],
   "source": [
    "def vigenere_encrypt(plaintext, key):\n",
    "  plaintext_length = len(plaintext)\n",
    "  key_length = len(key)\n",
    "  ciphertext = ''\n",
    "  blocks = [plaintext[i:i + key_length] for i in range(0, plaintext_length, key_length)]\n",
    "  for block in blocks:\n",
    "    for b_digit, k_digit in zip(block, key):\n",
    "      ciphertext += str((int(b_digit) + int(k_digit)) % 10)\n",
    "  return ciphertext"
   ]
  },
  {
   "cell_type": "code",
   "execution_count": 7,
   "metadata": {},
   "outputs": [
    {
     "data": {
      "text/plain": [
       "'37257775571080985851609444401658090518508274199802839218811832360664566124021304801653404154557079260175537696713523684876331708617139429405340629816817786299516298736560481653233636952379200334828874902601151903267631633983082340518591253061406684004401658013454465823935560767613771241468839063614768874269'"
      ]
     },
     "execution_count": 7,
     "metadata": {},
     "output_type": "execute_result"
    }
   ],
   "source": [
    "vigenere_encrypt(ciphertext, num_key)"
   ]
  },
  {
   "cell_type": "markdown",
   "metadata": {},
   "source": [
    "Statistical analysis attacks can still be used.\n",
    "\n",
    "In this case, we know a Vigenere cipher was used, which means we can figure out the key length. Next, we can guess the key (brute forcing it) since we know only digits were used. Lastly, we need to crack the straddling checkerboard cipher (again using statistical analysis). "
   ]
  },
  {
   "cell_type": "markdown",
   "metadata": {},
   "source": []
  }
 ],
 "metadata": {
  "interpreter": {
   "hash": "0f8cd87952bc4d263d98f1beaa42c4301d8eaf945c7ea7255e40cfc9774d6c1a"
  },
  "kernelspec": {
   "display_name": "Python 3.9.7 ('MSCS-basic')",
   "language": "python",
   "name": "python3"
  },
  "language_info": {
   "codemirror_mode": {
    "name": "ipython",
    "version": 3
   },
   "file_extension": ".py",
   "mimetype": "text/x-python",
   "name": "python",
   "nbconvert_exporter": "python",
   "pygments_lexer": "ipython3",
   "version": "3.9.7"
  },
  "orig_nbformat": 4
 },
 "nbformat": 4,
 "nbformat_minor": 2
}
