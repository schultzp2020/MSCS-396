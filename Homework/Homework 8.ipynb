{
 "cells": [
  {
   "cell_type": "code",
   "execution_count": 1,
   "metadata": {},
   "outputs": [],
   "source": [
    "import numpy as np"
   ]
  },
  {
   "cell_type": "code",
   "execution_count": 2,
   "metadata": {},
   "outputs": [],
   "source": [
    "def extended_euclidean(m, n):\n",
    "  if n == 0:\n",
    "    return 1, 0, m\n",
    "  x, y, g = extended_euclidean(n, m % n)\n",
    "  return y, x - (m // n)*y, g\n",
    "\n",
    "def inv_mod(a, modulus):\n",
    "  s, _, g = extended_euclidean(a, modulus)\n",
    "  assert g == 1, ValueError('the modular inverse does not exist')\n",
    "  return s % modulus\n",
    "\n",
    "def RC4_K(key, n=256):\n",
    "  S = np.array(range(n), dtype=int)\n",
    "  j = 0\n",
    "  for i in range(n):\n",
    "    j = (j + S[i] + key[i % len(key)]) % n\n",
    "    S[i], S[j] = S[j], S[i]\n",
    "  return S\n",
    "\n",
    "def RC4_PRGA(length, S, n=256):\n",
    "  key_stream = np.zeros(length, dtype=int)\n",
    "  i = 0\n",
    "  j = 0\n",
    "  for k in range(length):\n",
    "    i = (i + 1) % n\n",
    "    j = (j + S[i]) % n\n",
    "    S[i], S[j] = S[j], S[i]\n",
    "    key_stream[k] = S[(S[i] + S[j]) % n]\n",
    "  return key_stream\n",
    "\n",
    "def get_s_box(C):\n",
    "  s_box = np.zeros(65536, dtype=int)\n",
    "  for i in range(65536):\n",
    "    s_box[i] = (C * inv_mod(i+1, 65537)) % 65537 - 1\n",
    "  return s_box"
   ]
  },
  {
   "cell_type": "code",
   "execution_count": 3,
   "metadata": {},
   "outputs": [],
   "source": [
    "def feistel_round(blocks, stream, s_box):\n",
    "  newBlocks = blocks.copy()\n",
    "  for i, block in enumerate(blocks):\n",
    "    # Ln+1 = Rn\n",
    "    newBlocks[i, :4] = block[4:]\n",
    "    # Rn+1 = f(Rn, Kn) ^ Ln\n",
    "    for j, (Ln, Rn, Kn) in enumerate(zip(block[:4], block[4:], stream[i])):\n",
    "      newBlocks[i, 4+j] = s_box[Rn][Kn] ^ Ln\n",
    "  return newBlocks\n",
    "\n",
    "def feistel_network(plaintext, key, decode=False, debug=False):\n",
    "  s_box = get_s_box(314159).reshape((256, 256)) % 256\n",
    "\n",
    "  blocks = np.array([ord(char) for char in plaintext])\n",
    "  # pad with zeros to have blocks.shape[0] % 8 == 0\n",
    "  if (block_len := blocks.shape[0] % 8) != 0:\n",
    "    blocks = np.append(blocks, (8 - block_len)*[0])\n",
    "  # block size is 8 bytes\n",
    "  blocks = blocks.reshape((blocks.shape[0] // 8, 8))\n",
    "\n",
    "  # four rounds and four keys per round multiplied by len(blocks)\n",
    "  stream = RC4_PRGA(16*blocks.shape[0], RC4_K(key)).reshape(4, blocks.shape[0], 4)\n",
    "\n",
    "  # flip the stream if decoding\n",
    "  if decode:\n",
    "    stream = np.flip(stream, axis=0)\n",
    "\n",
    "  if debug:\n",
    "    print(f'Blocks: {blocks}')\n",
    "\n",
    "  # four rounds\n",
    "  for i in range(4):\n",
    "    blocks = feistel_round(blocks, stream[i], s_box)\n",
    "    if debug:\n",
    "      print(f'Blocks: {blocks}')\n",
    "      print(f'Stream: {stream[i]}')\n",
    "\n",
    "  # swap L3 and R3 on each block\n",
    "  swappedBlocks = blocks.copy()\n",
    "  for i, block in enumerate(blocks):\n",
    "    swappedBlocks[i, :4] = block[4:]\n",
    "    swappedBlocks[i, 4:] = block[:4]\n",
    "\n",
    "  if debug:\n",
    "    print(f'Blocks: {swappedBlocks}')\n",
    "\n",
    "  return ''.join([chr(num) for num in swappedBlocks.flatten()])"
   ]
  },
  {
   "cell_type": "code",
   "execution_count": 4,
   "metadata": {},
   "outputs": [
    {
     "name": "stdout",
     "output_type": "stream",
     "text": [
      "Is decoded correctly: True\n",
      "Ciphertext: 4ôÎÕ51BÝ\u0019?< ³\u000e\u001dÉR³Wß\u0002vTiq\n"
     ]
    }
   ],
   "source": [
    "plaintext = 'Paul'*8\n",
    "ciphertext = feistel_network(plaintext, [1,56,3])\n",
    "decoded_plaintext = feistel_network(ciphertext, [1,56,3], decode=True)\n",
    "print(f'Is decoded correctly: {plaintext == decoded_plaintext}')\n",
    "print(f'Ciphertext: {ciphertext}')"
   ]
  },
  {
   "cell_type": "code",
   "execution_count": null,
   "metadata": {},
   "outputs": [],
   "source": []
  }
 ],
 "metadata": {
  "interpreter": {
   "hash": "0f8cd87952bc4d263d98f1beaa42c4301d8eaf945c7ea7255e40cfc9774d6c1a"
  },
  "kernelspec": {
   "display_name": "Python 3.9.7 ('MSCS-basic')",
   "language": "python",
   "name": "python3"
  },
  "language_info": {
   "codemirror_mode": {
    "name": "ipython",
    "version": 3
   },
   "file_extension": ".py",
   "mimetype": "text/x-python",
   "name": "python",
   "nbconvert_exporter": "python",
   "pygments_lexer": "ipython3",
   "version": "3.9.7"
  },
  "orig_nbformat": 4
 },
 "nbformat": 4,
 "nbformat_minor": 2
}
