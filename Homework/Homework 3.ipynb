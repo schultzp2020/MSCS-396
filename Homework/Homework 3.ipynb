{
 "cells": [
  {
   "cell_type": "code",
   "execution_count": 1,
   "metadata": {},
   "outputs": [],
   "source": [
    "def fast_exp(base, exponent, modulus):\n",
    "  result = 1\n",
    "  while exponent != 0:\n",
    "    if exponent % 2 == 1:\n",
    "      result = (result * base) % modulus\n",
    "    base = base**2 % modulus\n",
    "    exponent = exponent // 2\n",
    "  return result\n",
    "\n",
    "def extended_euclidean(m, n):\n",
    "  if n == 0:\n",
    "    return 1, 0, m\n",
    "  x, y, g = extended_euclidean(n, m % n)\n",
    "  return y, x - (m // n)*y, g\n",
    "\n",
    "def inv_mod(a, modulus):\n",
    "  s, _, g = extended_euclidean(a, modulus)\n",
    "  assert g == 1, ValueError('the modular inverse does not exist')\n",
    "  return s % modulus\n",
    "\n",
    "def crt(remainders, moduli):\n",
    "  assert len(remainders) == len(moduli), ValueError('the lists remainders and moduli are not the same length')\n",
    "  assert len(remainders) > 0, ValueError('the list lengths must be greater than zero')\n",
    "\n",
    "  first_modulus = moduli[0]\n",
    "  first_remainder = remainders[0]\n",
    "\n",
    "  if len(remainders) == 1:\n",
    "    return first_remainder % first_modulus, first_modulus\n",
    "  \n",
    "  consecutive_remainder, consecutive_modulus = crt(remainders[1:], moduli[1:])\n",
    "  u, v, g = extended_euclidean(consecutive_modulus, first_modulus)\n",
    "\n",
    "  assert g == 1, ValueError('the moduli are not relatively prime')\n",
    "\n",
    "  return (first_remainder*consecutive_modulus*u + consecutive_remainder*first_modulus*v) % (first_modulus*consecutive_modulus), first_modulus*consecutive_modulus\n",
    "\n",
    "def eulers_totient(p, q):\n",
    "  return (p-1)*(q-1)\n",
    "\n",
    "def polynomial_congruence(e, m_to_the_e, totient_n, n):\n",
    "  d = inv_mod(e, totient_n)\n",
    "\n",
    "  m = fast_exp(m_to_the_e, d, n)\n",
    "\n",
    "  return m, d\n",
    "\n",
    "def rsa_decrypt(e, m_to_the_e, p, q):\n",
    "  return polynomial_congruence(e, m_to_the_e, eulers_totient(p, q), p*q)"
   ]
  },
  {
   "cell_type": "markdown",
   "metadata": {},
   "source": [
    "### 1. Using the code developed in class, solve the following Chinese Remainder Theorem problem.\n",
    "\n",
    "$\\begin{align*}\n",
    "    x &\\equiv 197 (\\operatorname{mod} 1009) \\\\\n",
    "    x &\\equiv 917 (\\operatorname{mod} 1013) \\\\\n",
    "    x &\\equiv 439 (\\operatorname{mod} 1559) \\\\\n",
    "    x &\\equiv 777 (\\operatorname{mod} 1439)\n",
    "\\end{align*}$"
   ]
  },
  {
   "cell_type": "code",
   "execution_count": 2,
   "metadata": {},
   "outputs": [
    {
     "name": "stdout",
     "output_type": "stream",
     "text": [
      "1034736897176 (mod2293018299917)\n"
     ]
    }
   ],
   "source": [
    "remainders = [197, 917, 439, 777]\n",
    "moduli = [1009, 1013, 1559, 1439]\n",
    "\n",
    "remainder, modulus = crt(remainders, moduli)\n",
    "print(f'{remainder} (mod{modulus})')"
   ]
  },
  {
   "cell_type": "markdown",
   "metadata": {},
   "source": [
    "### 2. Using the code developed in class, compute the following exponentiation.\n",
    "\n",
    "$189723981723918723789^{8978234758972347892342789}(\\operatorname{mod}999999999991)$"
   ]
  },
  {
   "cell_type": "code",
   "execution_count": 3,
   "metadata": {},
   "outputs": [
    {
     "data": {
      "text/plain": [
       "687308034361"
      ]
     },
     "execution_count": 3,
     "metadata": {},
     "output_type": "execute_result"
    }
   ],
   "source": [
    "fast_exp(189723981723918723789, 8978234758972347892342789, 999999999991)"
   ]
  },
  {
   "cell_type": "markdown",
   "metadata": {},
   "source": [
    "### 3. Use Fermat's Little Theorem to compute the following exponentiations. (This should be done by hand, make sure to show all work).\n",
    "\n",
    "$\\begin{align*}\n",
    "    &5^{117} (\\operatorname{mod} 7) \\\\\n",
    "    &7^{897123789} (\\operatorname{mod} 11) \\\\\n",
    "    &11^{200} (\\operatorname{mod} 23)\n",
    "\\end{align*}$"
   ]
  },
  {
   "cell_type": "markdown",
   "metadata": {},
   "source": [
    "$5^{117} = 5^{19*6 + 3} \\approx 5^3 = 125 \\approx 6 (\\operatorname{mod} 7)$"
   ]
  },
  {
   "cell_type": "markdown",
   "metadata": {},
   "source": [
    "$7^{897123789} = 7^{89712378*10 + 9} \\approx 7^{9} \\approx 8 (\\operatorname{mod} 11)$\n",
    "\n",
    "$7^{1} \\approx 7$, $7^{2} \\approx 5$, $7^{4} \\approx 5^{2} \\approx 3$, $7^{8} \\approx 3^{2} \\approx 9 (\\operatorname{mod} 11)$\n",
    "\n",
    "$7^9 = 7^8*7 \\approx 8 (\\operatorname{mod} 11)$"
   ]
  },
  {
   "cell_type": "markdown",
   "metadata": {},
   "source": [
    "$11^{200} = 11^{9*22 + 2} \\approx 11^{2} \\approx 6 (\\operatorname{mod} 23)$"
   ]
  },
  {
   "cell_type": "markdown",
   "metadata": {},
   "source": [
    "### 4. Compute Euler's Totient Function for the following numbers.\n",
    "\n",
    "$\\begin{align*}\n",
    "    &\\phi(2^{5}7^{3}) \\\\\n",
    "    &\\phi(11*23^{3}) \\\\\n",
    "    &\\phi(196)\n",
    "\\end{align*}$"
   ]
  },
  {
   "cell_type": "markdown",
   "metadata": {},
   "source": [
    "$\\phi(2^{5}7^{3}) = \\phi(2^5)\\phi(7^3) = (2^5-2^4)(7^3 - 7^2) = 4704$"
   ]
  },
  {
   "cell_type": "markdown",
   "metadata": {},
   "source": [
    "$\\phi(11*23^3) = \\phi(11)*\\phi(23^3) = (11-1)(23^3-23^2) = 116380$"
   ]
  },
  {
   "cell_type": "markdown",
   "metadata": {},
   "source": [
    "$\\phi(196) = \\phi(2^{2}7^{2}) = \\phi(2^2)\\phi(7^2) = (2^2-2)(7^2-7) = 84$"
   ]
  },
  {
   "cell_type": "markdown",
   "metadata": {},
   "source": [
    "### 5. The numbers $2459$ and $2503$ are prime with product $6154877$. Solve the following congruences for $x$.\n",
    "\n",
    "\n",
    "$\\begin{align*}\n",
    "    &x^{101} \\approx 420539 (\\operatorname{mod} 6154877) \\\\\n",
    "    &x^{2393} \\approx 4597153 (\\operatorname{mod} 6154877) \\\\\n",
    "    &x^{1373} \\approx 2487125 (\\operatorname{mod} 6154877)\n",
    "\\end{align*}$"
   ]
  },
  {
   "cell_type": "code",
   "execution_count": 8,
   "metadata": {},
   "outputs": [
    {
     "name": "stdout",
     "output_type": "stream",
     "text": [
      "m=1111\n",
      "d=4018757\n"
     ]
    }
   ],
   "source": [
    "m, d = rsa_decrypt(101, 420539, 2459, 2503)\n",
    "print(f'{m=}\\n{d=}')"
   ]
  },
  {
   "cell_type": "code",
   "execution_count": 10,
   "metadata": {},
   "outputs": [
    {
     "name": "stdout",
     "output_type": "stream",
     "text": [
      "m=50000\n",
      "d=3860081\n"
     ]
    }
   ],
   "source": [
    "m, d = rsa_decrypt(2393, 4597153, 2459, 2503)\n",
    "print(f'{m=}\\n{d=}')"
   ]
  },
  {
   "cell_type": "code",
   "execution_count": 9,
   "metadata": {},
   "outputs": [
    {
     "name": "stdout",
     "output_type": "stream",
     "text": [
      "m=314159\n",
      "d=2642717\n"
     ]
    }
   ],
   "source": [
    "m, d = rsa_decrypt(1373, 2487125, 2459, 2503)\n",
    "print(f'{m=}\\n{d=}')"
   ]
  },
  {
   "cell_type": "code",
   "execution_count": null,
   "metadata": {},
   "outputs": [],
   "source": []
  }
 ],
 "metadata": {
  "interpreter": {
   "hash": "0f8cd87952bc4d263d98f1beaa42c4301d8eaf945c7ea7255e40cfc9774d6c1a"
  },
  "kernelspec": {
   "display_name": "Python 3.9.7 ('MSCS-basic')",
   "language": "python",
   "name": "python3"
  },
  "language_info": {
   "codemirror_mode": {
    "name": "ipython",
    "version": 3
   },
   "file_extension": ".py",
   "mimetype": "text/x-python",
   "name": "python",
   "nbconvert_exporter": "python",
   "pygments_lexer": "ipython3",
   "version": "3.9.7"
  },
  "orig_nbformat": 4
 },
 "nbformat": 4,
 "nbformat_minor": 2
}
