{
 "cells": [
  {
   "cell_type": "code",
   "execution_count": 1,
   "metadata": {},
   "outputs": [],
   "source": [
    "def fast_exp(base, exponent, modulus):\n",
    "  result = 1\n",
    "  while exponent != 0:\n",
    "    if exponent % 2 == 1:\n",
    "      result = (result * base) % modulus\n",
    "    base = base**2 % modulus\n",
    "    exponent = exponent // 2\n",
    "  return result\n",
    "\n",
    "def extended_euclidean(m, n):\n",
    "  if n == 0:\n",
    "    return 1, 0, m\n",
    "  x, y, g = extended_euclidean(n, m % n)\n",
    "  return y, x - (m // n)*y, g\n",
    "\n",
    "def inv_mod(a, modulus):\n",
    "  s, _, g = extended_euclidean(a, modulus)\n",
    "  assert g == 1, ValueError('the modular inverse does not exist')\n",
    "  return s % modulus\n",
    "\n",
    "def crt(remainders, moduli):\n",
    "  assert len(remainders) == len(moduli), ValueError('the lists remainders and moduli are not the same length')\n",
    "  assert len(remainders) > 0, ValueError('the list lengths must be greater than one')\n",
    "\n",
    "  first_modulus = moduli[0]\n",
    "  first_remainder = remainders[0]\n",
    "\n",
    "  if len(remainders) == 1:\n",
    "    return first_remainder % first_modulus, first_modulus\n",
    "  \n",
    "  consecutive_remainder, consecutive_modulus = crt(remainders[1:], moduli[1:])\n",
    "  u, v, g = extended_euclidean(consecutive_modulus, first_modulus)\n",
    "\n",
    "  assert g == 1, ValueError('the moduli are not relatively prime')\n",
    "\n",
    "  return (first_remainder*consecutive_modulus*u + consecutive_remainder*first_modulus*v) % (first_modulus*consecutive_modulus), first_modulus*consecutive_modulus\n",
    "\n",
    "def polynomial_root(exponent, a, modulus):\n",
    "  u = inv_mod(exponent, modulus - 1)\n",
    "\n",
    "  result = fast_exp(a, u, modulus)\n",
    "\n",
    "  return result"
   ]
  },
  {
   "cell_type": "code",
   "execution_count": null,
   "metadata": {},
   "outputs": [],
   "source": []
  }
 ],
 "metadata": {
  "interpreter": {
   "hash": "0f8cd87952bc4d263d98f1beaa42c4301d8eaf945c7ea7255e40cfc9774d6c1a"
  },
  "kernelspec": {
   "display_name": "Python 3.9.7 ('MSCS-basic')",
   "language": "python",
   "name": "python3"
  },
  "language_info": {
   "codemirror_mode": {
    "name": "ipython",
    "version": 3
   },
   "file_extension": ".py",
   "mimetype": "text/x-python",
   "name": "python",
   "nbconvert_exporter": "python",
   "pygments_lexer": "ipython3",
   "version": "3.9.7"
  },
  "orig_nbformat": 4
 },
 "nbformat": 4,
 "nbformat_minor": 2
}
